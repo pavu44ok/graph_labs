{
 "cells": [
  {
   "cell_type": "code",
   "execution_count": 356,
   "id": "5bdf55de",
   "metadata": {
    "ExecuteTime": {
     "end_time": "2024-05-26T19:11:39.054633Z",
     "start_time": "2024-05-26T19:11:39.051498Z"
    }
   },
   "outputs": [],
   "source": [
    "import os\n",
    "import timeit\n",
    "import random\n",
    "import numpy as np\n",
    "import pandas as pd\n",
    "import graphblas as gb\n",
    "from graphblas.io import mmread\n",
    "import graphblas as gb\n",
    "from graphblas import Matrix, Vector, Scalar\n",
    "from graphblas import dtypes\n",
    "from graphblas import unary, binary, monoid, semiring\n",
    "from IPython.display import display, Markdown\n",
    "import matplotlib.pyplot as plt"
   ]
  },
  {
   "cell_type": "code",
   "execution_count": 357,
   "id": "a1ce345c",
   "metadata": {
    "ExecuteTime": {
     "end_time": "2024-05-26T19:11:39.379882Z",
     "start_time": "2024-05-26T19:11:39.279224Z"
    }
   },
   "outputs": [
    {
     "data": {
      "image/png": "[encoded data removed]",
      "text/plain": [
       "<Figure size 640x480 with 1 Axes>"
      ]
     },
     "metadata": {},
     "output_type": "display_data"
    }
   ],
   "source": [
    "A = gb.Matrix.from_dense(\n",
    "    [\n",
    "        [0, 1, 0, 1],\n",
    "        [0, 0, 1, 0],\n",
    "        [0, 1, 0, 1],\n",
    "        [0, 0, 0, 0],\n",
    "    ], \n",
    "    missing_value=0,\n",
    ")\n",
    "\n",
    "gb.viz.draw(A)"
   ]
  },
  {
   "cell_type": "markdown",
   "id": "87a3f43b",
   "metadata": {},
   "source": [
    "# Functions"
   ]
  },
  {
   "cell_type": "markdown",
   "id": "bdb5d977",
   "metadata": {},
   "source": [
    "## MSBFS-Levels"
   ]
  },
  {
   "cell_type": "code",
   "execution_count": 358,
   "id": "539ade9d",
   "metadata": {
    "ExecuteTime": {
     "end_time": "2024-05-26T19:11:39.835753Z",
     "start_time": "2024-05-26T19:11:39.831815Z"
    }
   },
   "outputs": [],
   "source": [
    "def msbfs_levels(matrix, start):\n",
    "    n = matrix.nrows\n",
    "    start_len = len(start)\n",
    "\n",
    "    front = Matrix(dtypes.INT32, start_len, n)\n",
    "    for i, s in enumerate(start):\n",
    "        front[i, s] << 1\n",
    "\n",
    "    result = Matrix(dtypes.INT32, start_len, n)\n",
    "    for i, s in enumerate(start):\n",
    "        result[i, s] << 0\n",
    "\n",
    "    for level in range(1, n-1):\n",
    "        new_front = Matrix(dtypes.INT32, start_len, n)\n",
    "        new_front(~result.S) << semiring.any_pair(front @ matrix)\n",
    "        result(new_front.S) << level\n",
    "        front(new_front.S) << 1\n",
    "\n",
    "    result(~result.V) << -1 # устанавливаем для недостижимых вершин -1\n",
    "    for i, s in enumerate(start):\n",
    "        result[i, s] << 0 # опять устанавливаем для стартовой вершины 0\n",
    "    \n",
    "    return [\n",
    "        (start_vertex, res) for start_vertex, res in zip(start, result.to_dense())\n",
    "    ]"
   ]
  },
  {
   "cell_type": "code",
   "execution_count": 359,
   "id": "ba18d8d1",
   "metadata": {
    "ExecuteTime": {
     "end_time": "2024-05-26T19:11:40.018988Z",
     "start_time": "2024-05-26T19:11:40.013773Z"
    }
   },
   "outputs": [
    {
     "data": {
      "text/plain": [
       "[(0, array([0, 1, 2, 1])),\n",
       " (2, array([-1,  1,  0,  1])),\n",
       " (3, array([-1, -1, -1,  0]))]"
      ]
     },
     "execution_count": 359,
     "metadata": {},
     "output_type": "execute_result"
    }
   ],
   "source": [
    "msbfs_levels(A, [0, 2, 3])"
   ]
  },
  {
   "cell_type": "markdown",
   "id": "bd48e229",
   "metadata": {},
   "source": [
    "## MSBFS-Parents"
   ]
  },
  {
   "cell_type": "code",
   "execution_count": 360,
   "id": "0a204a03",
   "metadata": {
    "ExecuteTime": {
     "end_time": "2024-05-26T19:11:40.380351Z",
     "start_time": "2024-05-26T19:11:40.376535Z"
    }
   },
   "outputs": [],
   "source": [
    "def msbfs_parents(matrix, start):\n",
    "    n = matrix.nrows\n",
    "    ind = Vector(dtypes.UINT64, n)\n",
    "    ind.build(range(n), range(n))\n",
    "    results = []\n",
    "\n",
    "    for start_vertex in start:\n",
    "        parents = Vector(dtypes.INT64, n)\n",
    "        parents[start_vertex] = -1\n",
    "        front = Vector(dtypes.INT64, n)\n",
    "        front[start_vertex] = 1\n",
    "\n",
    "        while front.nvals > 0:\n",
    "            front << ind.ewise_mult(front, binary.first)\n",
    "            front(~parents.S, replace=True) << front.vxm(matrix, semiring.min_first)\n",
    "            parents(binary.plus) << front\n",
    "\n",
    "        parents_list = [parents.get(i, default=-2) for i in range(n)]\n",
    "        results.append(parents_list)\n",
    "        \n",
    "    return [\n",
    "        (start_vertex, res) for start_vertex, res in zip(start, results)\n",
    "    ]"
   ]
  },
  {
   "cell_type": "code",
   "execution_count": 361,
   "id": "745b9440",
   "metadata": {
    "ExecuteTime": {
     "end_time": "2024-05-26T19:11:40.585871Z",
     "start_time": "2024-05-26T19:11:40.579790Z"
    }
   },
   "outputs": [
    {
     "data": {
      "text/plain": [
       "[(0, [-1, 0, 1, 0]), (2, [-2, 2, -1, 2]), (3, [-2, -2, -2, -1])]"
      ]
     },
     "execution_count": 361,
     "metadata": {},
     "output_type": "execute_result"
    }
   ],
   "source": [
    "msbfs_parents(A, [0, 2, 3])"
   ]
  },
  {
   "cell_type": "markdown",
   "id": "a63ff756",
   "metadata": {},
   "source": [
    "## MSBFS-Levels any.pair"
   ]
  },
  {
   "cell_type": "code",
   "execution_count": 362,
   "id": "a7589487",
   "metadata": {
    "ExecuteTime": {
     "end_time": "2024-05-26T19:11:40.967390Z",
     "start_time": "2024-05-26T19:11:40.962238Z"
    }
   },
   "outputs": [],
   "source": [
    "def msbfs_levels_any_pair(matrix, start):\n",
    "    n = matrix.nrows\n",
    "    start_len = len(start)\n",
    "    result = Matrix(dtypes.INT32, start_len, n)\n",
    "    front = Matrix(bool, start_len, n)\n",
    "    for ind, val in enumerate(start):\n",
    "        front[(ind, val)] << True\n",
    "    s = Scalar(bool)\n",
    "    level = -1\n",
    "    while True:\n",
    "        level += 1\n",
    "        result(mask=front.V) << level\n",
    "        front(~result.S, replace=True) << front.mxm(matrix, semiring.any_pair)\n",
    "        s << front.reduce_scalar(monoid.lor)\n",
    "        if not s:\n",
    "            break\n",
    "    \n",
    "    result(~result.V) << -1 \n",
    "    for i, s in enumerate(start):\n",
    "        result[i, s] << 0 \n",
    "    \n",
    "    return [\n",
    "        (start_vertex, res) for start_vertex, res in zip(start, result.to_dense())\n",
    "    ]"
   ]
  },
  {
   "cell_type": "code",
   "execution_count": 363,
   "id": "4fe1ae7e",
   "metadata": {
    "ExecuteTime": {
     "end_time": "2024-05-26T19:11:41.174669Z",
     "start_time": "2024-05-26T19:11:41.168457Z"
    }
   },
   "outputs": [
    {
     "data": {
      "text/plain": [
       "[(0, array([0, 1, 2, 1])),\n",
       " (2, array([-1,  1,  0,  1])),\n",
       " (3, array([-1, -1, -1,  0]))]"
      ]
     },
     "execution_count": 363,
     "metadata": {},
     "output_type": "execute_result"
    }
   ],
   "source": [
    "msbfs_levels_any_pair(A, [0, 2, 3])"
   ]
  },
  {
   "cell_type": "markdown",
   "id": "7d41ef58",
   "metadata": {},
   "source": [
    "## MSBFS-Parents any.first"
   ]
  },
  {
   "cell_type": "code",
   "execution_count": 364,
   "id": "925327db",
   "metadata": {
    "ExecuteTime": {
     "end_time": "2024-05-26T19:11:41.621494Z",
     "start_time": "2024-05-26T19:11:41.617525Z"
    }
   },
   "outputs": [],
   "source": [
    "def msbfs_parents_any_first(matrix, start):\n",
    "    n = matrix.nrows\n",
    "    ind = Vector(dtypes.UINT64, n)\n",
    "    ind.build(range(n), range(n))\n",
    "    results = []\n",
    "\n",
    "    for start_vertex in start:\n",
    "        parents = Vector(dtypes.INT64, n)\n",
    "        parents[start_vertex] = -1\n",
    "        front = Vector(dtypes.INT64, n)\n",
    "        front[start_vertex] = 1\n",
    "\n",
    "        while front.nvals > 0:\n",
    "            front << ind.ewise_mult(front, binary.first)\n",
    "            front(~parents.S, replace=True) << front.vxm(matrix, semiring.any_first)\n",
    "            parents(binary.plus) << front\n",
    "\n",
    "        parents_list = [parents.get(i, default=-2) for i in range(n)]\n",
    "        results.append(parents_list)\n",
    "    return [\n",
    "        (start_vertex, res) for start_vertex, res in zip(start, results)\n",
    "    ]"
   ]
  },
  {
   "cell_type": "code",
   "execution_count": 365,
   "id": "3d07fb22",
   "metadata": {
    "ExecuteTime": {
     "end_time": "2024-05-26T19:11:41.840925Z",
     "start_time": "2024-05-26T19:11:41.835098Z"
    }
   },
   "outputs": [
    {
     "data": {
      "text/plain": [
       "[(0, [-1, 0, 1, 0]), (2, [-2, 2, -1, 2]), (3, [-2, -2, -2, -1])]"
      ]
     },
     "execution_count": 365,
     "metadata": {},
     "output_type": "execute_result"
    }
   ],
   "source": [
    "msbfs_parents_any_first(A, [0, 2, 3])"
   ]
  },
  {
   "cell_type": "markdown",
   "id": "21fad997",
   "metadata": {},
   "source": [
    "# Тесты"
   ]
  },
  {
   "cell_type": "markdown",
   "id": "1bfb5fb3",
   "metadata": {},
   "source": [
    "## SuiteSparse Matrix Collection"
   ]
  },
  {
   "cell_type": "code",
   "execution_count": 366,
   "id": "fd7521ff",
   "metadata": {
    "ExecuteTime": {
     "end_time": "2024-05-26T19:11:42.414531Z",
     "start_time": "2024-05-26T19:11:42.409932Z"
    }
   },
   "outputs": [
    {
     "data": {
      "text/plain": [
       "['CSphd.mtx', 'EVA.mtx', 'G1.mtx', 'wb-cs-stanford.mtx']"
      ]
     },
     "execution_count": 366,
     "metadata": {},
     "output_type": "execute_result"
    }
   ],
   "source": [
    "files = [elem for elem in os.listdir('C:/Users/Екатерина/jupyter/graph_lab/lab02/') if '.mtx' in elem]\n",
    "files"
   ]
  },
  {
   "cell_type": "code",
   "execution_count": 367,
   "id": "3bd26c0a",
   "metadata": {
    "ExecuteTime": {
     "end_time": "2024-05-26T19:11:42.763659Z",
     "start_time": "2024-05-26T19:11:42.747089Z"
    }
   },
   "outputs": [],
   "source": [
    "real_graphs = dict()\n",
    "for file_name in files[:3]:\n",
    "    real_graphs[file_name.replace('.mtx', '')] = mmread(file_name)"
   ]
  },
  {
   "cell_type": "code",
   "execution_count": 368,
   "id": "8ad0c3d3",
   "metadata": {
    "ExecuteTime": {
     "end_time": "2024-05-26T19:11:43.161608Z",
     "start_time": "2024-05-26T19:11:43.158761Z"
    }
   },
   "outputs": [],
   "source": [
    "algs = {\n",
    "    'MSBFS-Levels': msbfs_levels,\n",
    "    'MSBFS-Parents': msbfs_parents,\n",
    "    'MSBFS-Levels any.pair': msbfs_levels_any_pair,\n",
    "    'MSBFS-Parents any.first': msbfs_parents_any_first,\n",
    "}"
   ]
  },
  {
   "cell_type": "code",
   "execution_count": 369,
   "id": "1d186633",
   "metadata": {
    "ExecuteTime": {
     "end_time": "2024-05-26T19:11:43.390513Z",
     "start_time": "2024-05-26T19:11:43.387798Z"
    }
   },
   "outputs": [],
   "source": [
    "n_starts = [10, 50, 100, 300]"
   ]
  },
  {
   "cell_type": "code",
   "execution_count": 370,
   "id": "f12b200c",
   "metadata": {
    "ExecuteTime": {
     "end_time": "2024-05-26T19:11:43.584040Z",
     "start_time": "2024-05-26T19:11:43.581322Z"
    }
   },
   "outputs": [],
   "source": [
    "def choose_start(n_vertices, n_start):\n",
    "    return random.sample(range(n_vertices), n_start)"
   ]
  },
  {
   "cell_type": "code",
   "execution_count": 372,
   "id": "a170f4e2",
   "metadata": {
    "ExecuteTime": {
     "end_time": "2024-05-26T19:29:13.187852Z",
     "start_time": "2024-05-26T19:11:44.674900Z"
    },
    "scrolled": false
   },
   "outputs": [
    {
     "data": {
      "text/markdown": [
       "# Graph name: CSphd (1/3)"
      ],
      "text/plain": [
       "<IPython.core.display.Markdown object>"
      ]
     },
     "metadata": {},
     "output_type": "display_data"
    },
    {
     "name": "stdout",
     "output_type": "stream",
     "text": [
      "Количество вершин = 1882, количество ребер = 1740, разряженность = 0.000492\n"
     ]
    },
    {
     "data": {
      "text/markdown": [
       "### MSBFS-Levels"
      ],
      "text/plain": [
       "<IPython.core.display.Markdown object>"
      ]
     },
     "metadata": {},
     "output_type": "display_data"
    },
    {
     "name": "stdout",
     "output_type": "stream",
     "text": [
      "Кол-во стартовых вершин: 10\n",
      "Time: \n",
      "141 ms ± 2.84 ms per loop (mean ± std. dev. of 7 runs, 10 loops each)\n",
      "\n",
      "Кол-во стартовых вершин: 50\n",
      "Time: \n",
      "142 ms ± 5.37 ms per loop (mean ± std. dev. of 7 runs, 10 loops each)\n",
      "\n",
      "Кол-во стартовых вершин: 100\n",
      "Time: \n",
      "148 ms ± 2.28 ms per loop (mean ± std. dev. of 7 runs, 10 loops each)\n",
      "\n",
      "Кол-во стартовых вершин: 300\n",
      "Time: \n",
      "166 ms ± 1.03 ms per loop (mean ± std. dev. of 7 runs, 10 loops each)\n",
      "\n"
     ]
    },
    {
     "data": {
      "text/markdown": [
       "### MSBFS-Parents"
      ],
      "text/plain": [
       "<IPython.core.display.Markdown object>"
      ]
     },
     "metadata": {},
     "output_type": "display_data"
    },
    {
     "name": "stdout",
     "output_type": "stream",
     "text": [
      "Кол-во стартовых вершин: 10\n",
      "Time: \n",
      "204 ms ± 8.19 ms per loop (mean ± std. dev. of 7 runs, 10 loops each)\n",
      "\n",
      "Кол-во стартовых вершин: 50\n",
      "Time: \n",
      "987 ms ± 23.7 ms per loop (mean ± std. dev. of 7 runs, 1 loop each)\n",
      "\n",
      "Кол-во стартовых вершин: 100\n",
      "Time: \n",
      "1.98 s ± 62.7 ms per loop (mean ± std. dev. of 7 runs, 1 loop each)\n",
      "\n",
      "Кол-во стартовых вершин: 300\n",
      "Time: \n",
      "5.73 s ± 82.7 ms per loop (mean ± std. dev. of 7 runs, 1 loop each)\n",
      "\n"
     ]
    },
    {
     "data": {
      "text/markdown": [
       "### MSBFS-Levels any.pair"
      ],
      "text/plain": [
       "<IPython.core.display.Markdown object>"
      ]
     },
     "metadata": {},
     "output_type": "display_data"
    },
    {
     "name": "stdout",
     "output_type": "stream",
     "text": [
      "Кол-во стартовых вершин: 10\n",
      "Time: \n",
      "850 µs ± 12.2 µs per loop (mean ± std. dev. of 7 runs, 1,000 loops each)\n",
      "\n",
      "Кол-во стартовых вершин: 50\n",
      "Time: \n",
      "2.39 ms ± 59.6 µs per loop (mean ± std. dev. of 7 runs, 100 loops each)\n",
      "\n",
      "Кол-во стартовых вершин: 100\n",
      "Time: \n",
      "4.93 ms ± 298 µs per loop (mean ± std. dev. of 7 runs, 100 loops each)\n",
      "\n",
      "Кол-во стартовых вершин: 300\n",
      "Time: \n",
      "12.8 ms ± 608 µs per loop (mean ± std. dev. of 7 runs, 100 loops each)\n",
      "\n"
     ]
    },
    {
     "data": {
      "text/markdown": [
       "### MSBFS-Parents any.first"
      ],
      "text/plain": [
       "<IPython.core.display.Markdown object>"
      ]
     },
     "metadata": {},
     "output_type": "display_data"
    },
    {
     "name": "stdout",
     "output_type": "stream",
     "text": [
      "Кол-во стартовых вершин: 10\n",
      "Time: \n",
      "198 ms ± 3.54 ms per loop (mean ± std. dev. of 7 runs, 10 loops each)\n",
      "\n",
      "Кол-во стартовых вершин: 50\n",
      "Time: \n",
      "973 ms ± 17.7 ms per loop (mean ± std. dev. of 7 runs, 1 loop each)\n",
      "\n",
      "Кол-во стартовых вершин: 100\n",
      "Time: \n",
      "1.95 s ± 12.4 ms per loop (mean ± std. dev. of 7 runs, 1 loop each)\n",
      "\n",
      "Кол-во стартовых вершин: 300\n",
      "Time: \n",
      "5.86 s ± 130 ms per loop (mean ± std. dev. of 7 runs, 1 loop each)\n",
      "\n"
     ]
    },
    {
     "data": {
      "text/markdown": [
       "# Graph name: EVA (2/3)"
      ],
      "text/plain": [
       "<IPython.core.display.Markdown object>"
      ]
     },
     "metadata": {},
     "output_type": "display_data"
    },
    {
     "name": "stdout",
     "output_type": "stream",
     "text": [
      "Количество вершин = 8497, количество ребер = 6726, разряженность = 9.3e-05\n"
     ]
    },
    {
     "data": {
      "text/markdown": [
       "### MSBFS-Levels"
      ],
      "text/plain": [
       "<IPython.core.display.Markdown object>"
      ]
     },
     "metadata": {},
     "output_type": "display_data"
    },
    {
     "name": "stdout",
     "output_type": "stream",
     "text": [
      "Кол-во стартовых вершин: 10\n",
      "Time: \n",
      "676 ms ± 87.2 ms per loop (mean ± std. dev. of 7 runs, 1 loop each)\n",
      "\n",
      "Кол-во стартовых вершин: 50\n",
      "Time: \n",
      "646 ms ± 12.7 ms per loop (mean ± std. dev. of 7 runs, 1 loop each)\n",
      "\n",
      "Кол-во стартовых вершин: 100\n",
      "Time: \n",
      "671 ms ± 16.6 ms per loop (mean ± std. dev. of 7 runs, 1 loop each)\n",
      "\n",
      "Кол-во стартовых вершин: 300\n",
      "Time: \n",
      "743 ms ± 30.6 ms per loop (mean ± std. dev. of 7 runs, 1 loop each)\n",
      "\n"
     ]
    },
    {
     "data": {
      "text/markdown": [
       "### MSBFS-Parents"
      ],
      "text/plain": [
       "<IPython.core.display.Markdown object>"
      ]
     },
     "metadata": {},
     "output_type": "display_data"
    },
    {
     "name": "stdout",
     "output_type": "stream",
     "text": [
      "Кол-во стартовых вершин: 10\n",
      "Time: \n",
      "890 ms ± 24.6 ms per loop (mean ± std. dev. of 7 runs, 1 loop each)\n",
      "\n",
      "Кол-во стартовых вершин: 50\n",
      "Time: \n",
      "4.34 s ± 54.3 ms per loop (mean ± std. dev. of 7 runs, 1 loop each)\n",
      "\n",
      "Кол-во стартовых вершин: 100\n",
      "Time: \n",
      "8.48 s ± 107 ms per loop (mean ± std. dev. of 7 runs, 1 loop each)\n",
      "\n",
      "Кол-во стартовых вершин: 300\n",
      "Time: \n",
      "25.7 s ± 290 ms per loop (mean ± std. dev. of 7 runs, 1 loop each)\n",
      "\n"
     ]
    },
    {
     "data": {
      "text/markdown": [
       "### MSBFS-Levels any.pair"
      ],
      "text/plain": [
       "<IPython.core.display.Markdown object>"
      ]
     },
     "metadata": {},
     "output_type": "display_data"
    },
    {
     "name": "stdout",
     "output_type": "stream",
     "text": [
      "Кол-во стартовых вершин: 10\n",
      "Time: \n",
      "1.1 ms ± 22.1 µs per loop (mean ± std. dev. of 7 runs, 1,000 loops each)\n",
      "\n",
      "Кол-во стартовых вершин: 50\n",
      "Time: \n",
      "6.57 ms ± 873 µs per loop (mean ± std. dev. of 7 runs, 100 loops each)\n",
      "\n",
      "Кол-во стартовых вершин: 100\n",
      "Time: \n",
      "11 ms ± 359 µs per loop (mean ± std. dev. of 7 runs, 100 loops each)\n",
      "\n",
      "Кол-во стартовых вершин: 300\n",
      "Time: \n",
      "33.5 ms ± 7.06 ms per loop (mean ± std. dev. of 7 runs, 10 loops each)\n",
      "\n"
     ]
    },
    {
     "data": {
      "text/markdown": [
       "### MSBFS-Parents any.first"
      ],
      "text/plain": [
       "<IPython.core.display.Markdown object>"
      ]
     },
     "metadata": {},
     "output_type": "display_data"
    },
    {
     "name": "stdout",
     "output_type": "stream",
     "text": [
      "Кол-во стартовых вершин: 10\n",
      "Time: \n",
      "863 ms ± 4.54 ms per loop (mean ± std. dev. of 7 runs, 1 loop each)\n",
      "\n",
      "Кол-во стартовых вершин: 50\n",
      "Time: \n",
      "4.43 s ± 88.9 ms per loop (mean ± std. dev. of 7 runs, 1 loop each)\n",
      "\n",
      "Кол-во стартовых вершин: 100\n",
      "Time: \n",
      "8.49 s ± 183 ms per loop (mean ± std. dev. of 7 runs, 1 loop each)\n",
      "\n",
      "Кол-во стартовых вершин: 300\n",
      "Time: \n",
      "24.8 s ± 177 ms per loop (mean ± std. dev. of 7 runs, 1 loop each)\n",
      "\n"
     ]
    },
    {
     "data": {
      "text/markdown": [
       "# Graph name: G1 (3/3)"
      ],
      "text/plain": [
       "<IPython.core.display.Markdown object>"
      ]
     },
     "metadata": {},
     "output_type": "display_data"
    },
    {
     "name": "stdout",
     "output_type": "stream",
     "text": [
      "Количество вершин = 800, количество ребер = 38352, разряженность = 0.06\n"
     ]
    },
    {
     "data": {
      "text/markdown": [
       "### MSBFS-Levels"
      ],
      "text/plain": [
       "<IPython.core.display.Markdown object>"
      ]
     },
     "metadata": {},
     "output_type": "display_data"
    },
    {
     "name": "stdout",
     "output_type": "stream",
     "text": [
      "Кол-во стартовых вершин: 10\n",
      "Time: \n",
      "41 ms ± 817 µs per loop (mean ± std. dev. of 7 runs, 10 loops each)\n",
      "\n",
      "Кол-во стартовых вершин: 50\n",
      "Time: \n",
      "43.7 ms ± 293 µs per loop (mean ± std. dev. of 7 runs, 10 loops each)\n",
      "\n",
      "Кол-во стартовых вершин: 100\n",
      "Time: \n",
      "49.2 ms ± 100 µs per loop (mean ± std. dev. of 7 runs, 10 loops each)\n",
      "\n",
      "Кол-во стартовых вершин: 300\n",
      "Time: \n",
      "59.8 ms ± 737 µs per loop (mean ± std. dev. of 7 runs, 10 loops each)\n",
      "\n"
     ]
    },
    {
     "data": {
      "text/markdown": [
       "### MSBFS-Parents"
      ],
      "text/plain": [
       "<IPython.core.display.Markdown object>"
      ]
     },
     "metadata": {},
     "output_type": "display_data"
    },
    {
     "name": "stdout",
     "output_type": "stream",
     "text": [
      "Кол-во стартовых вершин: 10\n",
      "Time: \n",
      "99.1 ms ± 705 µs per loop (mean ± std. dev. of 7 runs, 10 loops each)\n",
      "\n",
      "Кол-во стартовых вершин: 50\n",
      "Time: \n",
      "497 ms ± 1.3 ms per loop (mean ± std. dev. of 7 runs, 1 loop each)\n",
      "\n",
      "Кол-во стартовых вершин: 100\n",
      "Time: \n",
      "967 ms ± 9.89 ms per loop (mean ± std. dev. of 7 runs, 1 loop each)\n",
      "\n",
      "Кол-во стартовых вершин: 300\n",
      "Time: \n",
      "2.9 s ± 19.9 ms per loop (mean ± std. dev. of 7 runs, 1 loop each)\n",
      "\n"
     ]
    },
    {
     "data": {
      "text/markdown": [
       "### MSBFS-Levels any.pair"
      ],
      "text/plain": [
       "<IPython.core.display.Markdown object>"
      ]
     },
     "metadata": {},
     "output_type": "display_data"
    },
    {
     "name": "stdout",
     "output_type": "stream",
     "text": [
      "Кол-во стартовых вершин: 10\n",
      "Time: \n",
      "1.05 ms ± 4.36 µs per loop (mean ± std. dev. of 7 runs, 1,000 loops each)\n",
      "\n",
      "Кол-во стартовых вершин: 50\n",
      "Time: \n",
      "3.37 ms ± 24.9 µs per loop (mean ± std. dev. of 7 runs, 100 loops each)\n",
      "\n",
      "Кол-во стартовых вершин: 100\n",
      "Time: \n",
      "6.01 ms ± 80.3 µs per loop (mean ± std. dev. of 7 runs, 100 loops each)\n",
      "\n",
      "Кол-во стартовых вершин: 300\n",
      "Time: \n",
      "14 ms ± 168 µs per loop (mean ± std. dev. of 7 runs, 100 loops each)\n",
      "\n"
     ]
    },
    {
     "data": {
      "text/markdown": [
       "### MSBFS-Parents any.first"
      ],
      "text/plain": [
       "<IPython.core.display.Markdown object>"
      ]
     },
     "metadata": {},
     "output_type": "display_data"
    },
    {
     "name": "stdout",
     "output_type": "stream",
     "text": [
      "Кол-во стартовых вершин: 10\n",
      "Time: \n",
      "97.9 ms ± 813 µs per loop (mean ± std. dev. of 7 runs, 10 loops each)\n",
      "\n",
      "Кол-во стартовых вершин: 50\n",
      "Time: \n",
      "486 ms ± 1.52 ms per loop (mean ± std. dev. of 7 runs, 1 loop each)\n",
      "\n",
      "Кол-во стартовых вершин: 100\n",
      "Time: \n",
      "969 ms ± 9.48 ms per loop (mean ± std. dev. of 7 runs, 1 loop each)\n",
      "\n",
      "Кол-во стартовых вершин: 300\n",
      "Time: \n",
      "3.05 s ± 207 ms per loop (mean ± std. dev. of 7 runs, 1 loop each)\n",
      "\n"
     ]
    }
   ],
   "source": [
    "for i, (graph_name, graph) in enumerate(real_graphs.items()):\n",
    "    display(Markdown(f'# Graph name: {graph_name} ({i+1}/{len(real_graphs)})'))\n",
    "    n_vertices = graph.shape[0]\n",
    "    n_edges = len(graph.to_coo()[0])\n",
    "    deg = n_edges / (n_vertices * (n_vertices - 1))\n",
    "    print(\n",
    "        f'Количество вершин = {n_vertices}, '\n",
    "        f'количество ребер = {n_edges}, '\n",
    "        f'разряженность = {round(deg, 6)}'\n",
    "    )\n",
    "    for alg_name, alg_func in algs.items():\n",
    "        display(Markdown(f'### {alg_name}'))    \n",
    "        for n_start in n_starts:\n",
    "            print(f'Кол-во стартовых вершин: {n_start}')\n",
    "            print(f'Time: ')\n",
    "            %timeit alg_func(graph, start=choose_start(n_vertices, n_start))\n",
    "            print()"
   ]
  },
  {
   "cell_type": "markdown",
   "id": "4ede070c",
   "metadata": {},
   "source": [
    "## Сгенерированный граф"
   ]
  },
  {
   "cell_type": "code",
   "execution_count": 316,
   "id": "47ed453a",
   "metadata": {
    "ExecuteTime": {
     "end_time": "2024-05-26T18:43:28.173189Z",
     "start_time": "2024-05-26T18:43:28.169978Z"
    }
   },
   "outputs": [],
   "source": [
    "def generate_random_graph(n_vertices, n_edges):\n",
    "    positions=[]\n",
    "    for ind in range(n_vertices**2):\n",
    "        if ind // n_vertices != ind % n_vertices:\n",
    "            positions.append(ind)\n",
    "    gen_indices = random.sample(positions, n_edges)\n",
    "    row_indices, col_indices = np.unravel_index(gen_indices, (n_vertices, n_vertices))\n",
    "    return gb.Matrix.from_coo(row_indices, col_indices, [1]*len(row_indices), nrows=n_vertices, ncols=n_vertices)"
   ]
  },
  {
   "cell_type": "code",
   "execution_count": 321,
   "id": "fdbf6a27",
   "metadata": {
    "ExecuteTime": {
     "end_time": "2024-05-26T18:43:47.801412Z",
     "start_time": "2024-05-26T18:43:47.723061Z"
    }
   },
   "outputs": [
    {
     "data": {
      "image/png": "[encoded data removed]",
      "text/plain": [
       "<Figure size 640x480 with 1 Axes>"
      ]
     },
     "metadata": {},
     "output_type": "display_data"
    }
   ],
   "source": [
    "gb.viz.draw(generate_random_graph(10, 4))"
   ]
  },
  {
   "cell_type": "markdown",
   "id": "c7544111",
   "metadata": {},
   "source": [
    "### Кол-во вершин"
   ]
  },
  {
   "cell_type": "code",
   "execution_count": 373,
   "id": "054fcbdc",
   "metadata": {
    "ExecuteTime": {
     "end_time": "2024-05-26T19:29:13.191353Z",
     "start_time": "2024-05-26T19:29:13.188858Z"
    }
   },
   "outputs": [],
   "source": [
    "from tqdm import tqdm"
   ]
  },
  {
   "cell_type": "code",
   "execution_count": 374,
   "id": "fc88eaea",
   "metadata": {
    "ExecuteTime": {
     "end_time": "2024-05-26T19:32:26.922783Z",
     "start_time": "2024-05-26T19:29:13.192357Z"
    }
   },
   "outputs": [
    {
     "name": "stderr",
     "output_type": "stream",
     "text": [
      "100%|████████████████████████████████████████████████████████████████████████████████████| 4/4 [03:13<00:00, 48.43s/it]\n"
     ]
    }
   ],
   "source": [
    "df_sparsity = []\n",
    "df_n_vertices = []\n",
    "df_alg_name = []\n",
    "df_time = []\n",
    "df_n_starts = []\n",
    "\n",
    "sparsity = 0.5\n",
    "start_ratio = 0.2\n",
    "\n",
    "for n_vertices in tqdm((100, 500, 1_000, 1_500,)):\n",
    "    n_edges = int((sparsity / 100) * n_vertices * (n_vertices - 1) / 2)\n",
    "    graph = generate_random_graph(n_vertices, n_edges)\n",
    "    n_start = int(start_ratio * n_vertices)\n",
    "    for alg_name, alg_func in algs.items():\n",
    "        start = choose_start(n_vertices, n_start)\n",
    "        time_expr = timeit.timeit(lambda: alg_func(graph, start), number=10)\n",
    "        \n",
    "        df_sparsity.append(sparsity)\n",
    "        df_n_vertices.append(n_vertices)\n",
    "        df_alg_name.append(alg_name)\n",
    "        df_time.append(time_expr)\n",
    "        df_n_starts.append(n_start)\n",
    "        \n",
    "expr_res = pd.DataFrame(\n",
    "    {\n",
    "        'sparsity': df_sparsity,\n",
    "        'n_vertices': df_n_vertices,\n",
    "        'alg_name': df_alg_name,\n",
    "        'time': df_time,\n",
    "        'n_start': df_n_starts,\n",
    "    }\n",
    ")"
   ]
  },
  {
   "cell_type": "code",
   "execution_count": 375,
   "id": "fa8e67d3",
   "metadata": {
    "ExecuteTime": {
     "end_time": "2024-05-26T19:32:27.023167Z",
     "start_time": "2024-05-26T19:32:26.924660Z"
    }
   },
   "outputs": [
    {
     "data": {
      "image/png": "[encoded data removed]",
      "text/plain": [
       "<Figure size 700x500 with 1 Axes>"
      ]
     },
     "metadata": {},
     "output_type": "display_data"
    }
   ],
   "source": [
    "plt.figure(figsize=(7, 5))\n",
    "\n",
    "for alg_name in algs.keys():\n",
    "    tmp = expr_res[\n",
    "        expr_res['alg_name'].eq(alg_name)\n",
    "    ].sort_values('n_vertices')\n",
    "    plt.plot(\n",
    "        tmp['n_vertices'].values,\n",
    "        tmp['time'].values,\n",
    "        label=alg_name,\n",
    "    )\n",
    "\n",
    "plt.xlabel('n_vertices')\n",
    "plt.ylabel('time')\n",
    "plt.title(f'Производительность при разряженности {sparsity}, доле стартовых вершин {start_ratio}')\n",
    "plt.legend()\n",
    "plt.grid(True)\n",
    "plt.show()"
   ]
  },
  {
   "cell_type": "markdown",
   "id": "a0c26fc1",
   "metadata": {},
   "source": [
    "### Разряженность "
   ]
  },
  {
   "cell_type": "code",
   "execution_count": 376,
   "id": "ce17557b",
   "metadata": {
    "ExecuteTime": {
     "end_time": "2024-05-26T19:33:24.480862Z",
     "start_time": "2024-05-26T19:32:27.024173Z"
    }
   },
   "outputs": [
    {
     "name": "stderr",
     "output_type": "stream",
     "text": [
      "100%|████████████████████████████████████████████████████████████████████████████████████| 5/5 [00:57<00:00, 11.49s/it]\n"
     ]
    }
   ],
   "source": [
    "df_sparsity = []\n",
    "df_n_vertices = []\n",
    "df_alg_name = []\n",
    "df_time = []\n",
    "df_n_starts = []\n",
    "\n",
    "start_ratio = 0.2\n",
    "n_vertices = 500\n",
    "\n",
    "for sparsity in tqdm([0.01, 0.1, 0.3, 0.5, 0.9]):\n",
    "    n_edges = int((sparsity / 100) * n_vertices * (n_vertices - 1) / 2)\n",
    "    graph = generate_random_graph(n_vertices, n_edges)\n",
    "    n_start = int(start_ratio * n_vertices)\n",
    "    for alg_name, alg_func in algs.items():\n",
    "        start = choose_start(n_vertices, n_start)\n",
    "        time_expr = timeit.timeit(lambda: alg_func(graph, start), number=10)\n",
    "        \n",
    "        df_sparsity.append(sparsity)\n",
    "        df_n_vertices.append(n_vertices)\n",
    "        df_alg_name.append(alg_name)\n",
    "        df_time.append(time_expr)\n",
    "        df_n_starts.append(n_start)\n",
    "        \n",
    "expr_res = pd.DataFrame(\n",
    "    {\n",
    "        'sparsity': df_sparsity,\n",
    "        'n_vertices': df_n_vertices,\n",
    "        'alg_name': df_alg_name,\n",
    "        'time': df_time,\n",
    "        'n_start': df_n_starts,\n",
    "    }\n",
    ")"
   ]
  },
  {
   "cell_type": "code",
   "execution_count": 377,
   "id": "076de301",
   "metadata": {
    "ExecuteTime": {
     "end_time": "2024-05-26T19:33:24.597347Z",
     "start_time": "2024-05-26T19:33:24.481864Z"
    }
   },
   "outputs": [
    {
     "data": {
      "image/png": "[encoded data removed]",
      "text/plain": [
       "<Figure size 700x500 with 1 Axes>"
      ]
     },
     "metadata": {},
     "output_type": "display_data"
    }
   ],
   "source": [
    "plt.figure(figsize=(7, 5))\n",
    "\n",
    "for alg_name in algs.keys():\n",
    "    tmp = expr_res[\n",
    "        expr_res['alg_name'].eq(alg_name)\n",
    "    ].sort_values('sparsity')\n",
    "    plt.plot(\n",
    "        tmp['sparsity'].values,\n",
    "        tmp['time'].values,\n",
    "        label=alg_name,\n",
    "    )\n",
    "\n",
    "plt.xlabel('sparsity')\n",
    "plt.ylabel('time')\n",
    "plt.title(f'Производительность при кол-ве вершин {n_vertices}, доле стартовых вершин {start_ratio}')\n",
    "plt.legend()\n",
    "plt.grid(True)\n",
    "plt.show()"
   ]
  },
  {
   "cell_type": "code",
   "execution_count": null,
   "id": "eb5d91f2",
   "metadata": {},
   "outputs": [],
   "source": []
  },
  {
   "cell_type": "markdown",
   "id": "995c6bc9",
   "metadata": {},
   "source": [
    "### Кол-во стартовых точек"
   ]
  },
  {
   "cell_type": "code",
   "execution_count": 378,
   "id": "f7bec6bd",
   "metadata": {
    "ExecuteTime": {
     "end_time": "2024-05-26T19:35:09.022494Z",
     "start_time": "2024-05-26T19:33:24.598362Z"
    }
   },
   "outputs": [
    {
     "name": "stderr",
     "output_type": "stream",
     "text": [
      "100%|████████████████████████████████████████████████████████████████████████████████████| 5/5 [01:44<00:00, 20.88s/it]\n"
     ]
    }
   ],
   "source": [
    "df_sparsity = []\n",
    "df_n_vertices = []\n",
    "df_alg_name = []\n",
    "df_time = []\n",
    "df_n_starts = []\n",
    "\n",
    "sparsity = 0.5\n",
    "n_vertices = 500\n",
    "\n",
    "n_edges = int((sparsity / 100) * n_vertices * (n_vertices - 1) / 2)\n",
    "graph = generate_random_graph(n_vertices, n_edges)\n",
    "for start_ratio in tqdm([0.05, 0.1, 0.3, 0.5, 0.8]):\n",
    "    n_start = int(start_ratio * n_vertices)\n",
    "    start = choose_start(n_vertices, n_start)\n",
    "    for alg_name, alg_func in algs.items():\n",
    "        time_expr = timeit.timeit(lambda: alg_func(graph, start), number=10)\n",
    "\n",
    "        df_sparsity.append(sparsity)\n",
    "        df_n_vertices.append(n_vertices)\n",
    "        df_alg_name.append(alg_name)\n",
    "        df_time.append(time_expr)\n",
    "        df_n_starts.append(n_start)\n",
    "        \n",
    "expr_res = pd.DataFrame(\n",
    "    {\n",
    "        'sparsity': df_sparsity,\n",
    "        'n_vertices': df_n_vertices,\n",
    "        'alg_name': df_alg_name,\n",
    "        'time': df_time,\n",
    "        'n_start': df_n_starts,\n",
    "    }\n",
    ")"
   ]
  },
  {
   "cell_type": "code",
   "execution_count": 379,
   "id": "1831853d",
   "metadata": {
    "ExecuteTime": {
     "end_time": "2024-05-26T19:35:09.121850Z",
     "start_time": "2024-05-26T19:35:09.023497Z"
    }
   },
   "outputs": [
    {
     "data": {
      "image/png": "[encoded data removed]",
      "text/plain": [
       "<Figure size 700x500 with 1 Axes>"
      ]
     },
     "metadata": {},
     "output_type": "display_data"
    }
   ],
   "source": [
    "plt.figure(figsize=(7, 5))\n",
    "\n",
    "for alg_name in algs.keys():\n",
    "    tmp = expr_res[\n",
    "        expr_res['alg_name'].eq(alg_name)\n",
    "    ].sort_values('n_start')\n",
    "    plt.plot(\n",
    "        tmp['n_start'].values,\n",
    "        tmp['time'].values,\n",
    "        label=alg_name,\n",
    "    )\n",
    "\n",
    "plt.xlabel('n_start')\n",
    "plt.ylabel('time')\n",
    "plt.title(f'Производительность при кол-ве вершин {n_vertices}, разряженности {sparsity}')\n",
    "plt.legend()\n",
    "plt.grid(True)\n",
    "plt.show()"
   ]
  },
  {
   "cell_type": "markdown",
   "id": "582ed94a",
   "metadata": {},
   "source": [
    "# Выводы"
   ]
  },
  {
   "cell_type": "markdown",
   "id": "be6534dc",
   "metadata": {},
   "source": [
    "- С ростом числа вершин увеличивается время работы алгоритмов увеличивается (при степени разреженности = 0.5 и числе стартовых вершин = 20%)\n",
    "- При увеличении степени разреженности время работы алгоритмов увеличивается (при числе  вершин = 500 и числе стартовых вершин = 20%)\n",
    "- С ростом числа стартовых вершин  время работы алгоритмов увеличивается (при степени разреженности = 0.5 и числе  вершин = 500)\n",
    "- Алгоритмы MSBFS-Levels и MSBFS-Levels any.pair работают быстрее чем MSBFS-Parents и MSBFS-Parents any.first при усложнении графа (разряженность, кол-во вершин) и при увеличении кол-ва стартовых точек"
   ]
  }
 ],
 "metadata": {
  "kernelspec": {
   "display_name": "graph",
   "language": "python",
   "name": "graph"
  },
  "language_info": {
   "codemirror_mode": {
    "name": "ipython",
    "version": 3
   },
   "file_extension": ".py",
   "mimetype": "text/x-python",
   "name": "python",
   "nbconvert_exporter": "python",
   "pygments_lexer": "ipython3",
   "version": "3.12.1"
  },
  "toc": {
   "base_numbering": 1,
   "nav_menu": {},
   "number_sections": true,
   "sideBar": true,
   "skip_h1_title": false,
   "title_cell": "Table of Contents",
   "title_sidebar": "Contents",
   "toc_cell": false,
   "toc_position": {
    "height": "calc(100% - 180px)",
    "left": "10px",
    "top": "150px",
    "width": "456.719px"
   },
   "toc_section_display": true,
   "toc_window_display": true
  }
 },
 "nbformat": 4,
 "nbformat_minor": 5
}
