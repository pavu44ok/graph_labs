{
 "cells": [
  {
   "cell_type": "markdown",
   "id": "a5c34507",
   "metadata": {},
   "source": [
    "Павлюк Екатерина, группа S4102"
   ]
  },
  {
   "cell_type": "code",
   "execution_count": 143,
   "id": "4538c0ad",
   "metadata": {
    "ExecuteTime": {
     "end_time": "2024-05-12T12:31:01.343995Z",
     "start_time": "2024-05-12T12:31:01.339216Z"
    }
   },
   "outputs": [],
   "source": [
    "import os\n",
    "import timeit\n",
    "import numpy as np\n",
    "import graphblas as gb\n",
    "from graphblas import Matrix, dtypes, unary, binary, monoid, semiring, Recorder\n",
    "from graphblas.io import mmread\n",
    "from IPython.display import display, Markdown\n",
    "import matplotlib.pyplot as plt"
   ]
  },
  {
   "cell_type": "markdown",
   "id": "c36a4c42",
   "metadata": {},
   "source": [
    "# Задание 1. Наивный алгоритм\n",
    "- Используя `python-graphblas` реализовать наивный алгоритм, для матрицы смежности $A$ вычисляющий $A^3$ и возвращающий количество треугольников неориентированного графа.\n",
    "  - Функция принимает представление неориентированного графа, удобное для неё (загрузка, конвертация и проверка неориентированности реализованы отдельно).\n",
    "  - Функция возвращает число --- количество треугольников в графе."
   ]
  },
  {
   "cell_type": "code",
   "execution_count": 26,
   "id": "0a0cd076",
   "metadata": {
    "ExecuteTime": {
     "end_time": "2024-05-12T10:42:47.098332Z",
     "start_time": "2024-05-12T10:42:47.094666Z"
    }
   },
   "outputs": [],
   "source": [
    "def naive_alg(A) -> int:\n",
    "    \"\"\"Наивный алгоритм, возвращающий количество треугольников неориентированного графа.\n",
    "    \n",
    "    Алгоритм:\n",
    "    - Вычисляем A^3 \n",
    "    - Берем диагональ матрицы (все пути длины 3)\n",
    "    - Находим след (сумму диагональных элементов)\n",
    "    - Находим кол-во треугольников деля на 6\n",
    "    \"\"\"\n",
    "    A_p3 = A.mxm(A).mxm(A)\n",
    "    diagonal = A_p3.diag()\n",
    "    n_triangles = diagonal.reduce(gb.agg.sum).value or 0\n",
    "    return int(n_triangles / 6)"
   ]
  },
  {
   "cell_type": "markdown",
   "id": "5d27ad9d",
   "metadata": {},
   "source": [
    "# Задание 2. Наивный алгоритм с маской\n",
    "- Используя `python-graphblas` реализовать наивный алгоритм с маской, для матрицы смежности $A$ вычисляющий $A^2$ и возвращающий количество треугольников неориентированного графа.\n",
    "  - Функция принимает представление неориентированного графа, удобное для неё (загрузка, конвертация и проверка неориентированности реализованы отдельно).\n",
    "  - Функция возвращает число --- количество треугольников в графе."
   ]
  },
  {
   "cell_type": "code",
   "execution_count": 42,
   "id": "429c4385",
   "metadata": {
    "ExecuteTime": {
     "end_time": "2024-05-12T10:48:47.259211Z",
     "start_time": "2024-05-12T10:48:47.255669Z"
    }
   },
   "outputs": [],
   "source": [
    "def naive_alg_with_mask(A) -> int:\n",
    "    \"\"\"Наивный алгоритм  с маской, возвращающий количество треугольников неориентированного графа.\n",
    "    \n",
    "    Алгоритм:\n",
    "    - Вычисляем A^2 \n",
    "    - Вычисляем маску A и применяем к A^2\n",
    "    - Суммируем элементы матрицы, делим на 6\n",
    "    \"\"\"\n",
    "    A_p2 = A.mxm(A)\n",
    "    mask = A.dup(dtype=dtypes.BOOL)\n",
    "    A_p2_w_mask = A_p2.dup(mask=mask)\n",
    "    n_triangles = A_p2_w_mask.reduce_scalar(gb.monoid.plus).value or 0\n",
    "    return int(n_triangles / 6)"
   ]
  },
  {
   "cell_type": "markdown",
   "id": "6315de3f",
   "metadata": {},
   "source": [
    "# Задание 3. Сohen's algorithm\n",
    "- Используя `python-graphblas` реализовать Сohen's algorithm, вычисляющий количество треугольников неориентированного графа.\n",
    "  - Функция принимает представление неориентированного графа, удобное для неё (загрузка, конвертация и проверка неориентированности реализованы отдельно).\n",
    "  - Функция возвращает число --- количество треугольников в графе."
   ]
  },
  {
   "cell_type": "code",
   "execution_count": 48,
   "id": "1d4bd905",
   "metadata": {
    "ExecuteTime": {
     "end_time": "2024-05-12T10:49:51.675448Z",
     "start_time": "2024-05-12T10:49:51.672219Z"
    }
   },
   "outputs": [],
   "source": [
    "def сohens_alg(A) -> int:\n",
    "    \"\"\"Сohen's algorithm, вычисляющий количество треугольников неориентированного графа.\n",
    "    \n",
    "    Алгоритм:\n",
    "    - Вычисляем нижнюю треугольную матрицу L\n",
    "    - Вычисляем верхнюю треугольную матрицу U\n",
    "    - Умножаем L на U и применяем маску A\n",
    "    - Суммируем элементы матрицы, делим на 2\n",
    "    \"\"\"\n",
    "    L = gb.select.tril(A)\n",
    "    U = gb.select.triu(A)\n",
    "    mask = A.dup(dtype=dtypes.BOOL)\n",
    "    LU_w_mask = L.mxm(U).dup(mask=mask)\n",
    "    n_triangles = LU_w_mask.reduce_scalar(gb.monoid.plus).value or 0\n",
    "    return int(n_triangles / 2)"
   ]
  },
  {
   "cell_type": "markdown",
   "id": "059f075c",
   "metadata": {},
   "source": [
    "# Задание 4. Sandia algorithm\n",
    "- Используя `python-graphblas` реализовать Sandia algorithm, вычисляющий количество треугольников неориентированного графа.\n",
    "  - Функция принимает представление неориентированного графа, удобное для неё (загрузка, конвертация и проверка неориентированности реализованы отдельно).\n",
    "  - Функция возвращает число --- количество треугольников в графе."
   ]
  },
  {
   "cell_type": "code",
   "execution_count": 30,
   "id": "29ee4106",
   "metadata": {
    "ExecuteTime": {
     "end_time": "2024-05-12T10:43:19.911820Z",
     "start_time": "2024-05-12T10:43:19.908147Z"
    }
   },
   "outputs": [],
   "source": [
    "def sandia_alg(A) -> int:\n",
    "    \"\"\"Sandia algorithm, вычисляющий количество треугольников неориентированного графа.\n",
    "    \n",
    "    Алгоритм:\n",
    "    - Вычисляем нижнюю треугольную матрицу L\n",
    "    - Вычисляем L^2\n",
    "    - Вычисляем маску L и применяем к L^2\n",
    "    - Суммируем элементы матрицы\n",
    "    \"\"\"\n",
    "    L = gb.select.tril(A)\n",
    "    L_p2 = L.mxm(L)\n",
    "    mask = L.dup(dtype=dtypes.BOOL)\n",
    "    L_p2_w_mask = L_p2.dup(mask=mask)\n",
    "    n_triangles = L_p2_w_mask.reduce_scalar(gb.monoid.plus).value or 0\n",
    "    return int(n_triangles)"
   ]
  },
  {
   "cell_type": "markdown",
   "id": "521c6b80",
   "metadata": {},
   "source": [
    "# Задание 5.  Функция, вычисляющая для каждой вершины неориентированного графа количество треугольников, в которых она участвует.\n",
    "- (+2 балла) Используя `python-graphblas` реализовать функцию, вычисляющую для каждой вершины неориентированного графа количество треугольников, в которых она участвует.\n",
    "  - Функция принимает представление неориентированного графа, удобное для неё (загрузка, конвертация и проверка неориентированности реализованы отдельно).\n",
    "  - Функция возвращает массив, где для каждой вершины указано, в скольки треугольниках она участвует."
   ]
  },
  {
   "cell_type": "code",
   "execution_count": 79,
   "id": "fb5499a2",
   "metadata": {
    "ExecuteTime": {
     "end_time": "2024-05-12T11:04:00.920966Z",
     "start_time": "2024-05-12T11:04:00.916769Z"
    }
   },
   "outputs": [],
   "source": [
    "def n_triangles_for_vertex(A):\n",
    "    A_p3 = A.mxm(A).mxm(A)\n",
    "    diagonal = A_p3.diag()\n",
    "    n_triangles = diagonal.apply(lambda x: x//2)\n",
    "    return n_triangles.to_dense(fill_value=0)"
   ]
  },
  {
   "cell_type": "markdown",
   "id": "9defc919",
   "metadata": {},
   "source": [
    "# Задание 6. Тестирование\n",
    "- Добавить тесты для проверки корректности полученных реализаций"
   ]
  },
  {
   "cell_type": "markdown",
   "id": "24f7d46c",
   "metadata": {},
   "source": [
    "## n_triangles_for_vertex"
   ]
  },
  {
   "cell_type": "code",
   "execution_count": 17,
   "id": "056eb7c6",
   "metadata": {
    "ExecuteTime": {
     "end_time": "2024-05-12T10:38:40.346300Z",
     "start_time": "2024-05-12T10:38:40.273569Z"
    }
   },
   "outputs": [
    {
     "data": {
      "image/png": "[encoded data removed]",
      "text/plain": [
       "<Figure size 640x480 with 1 Axes>"
      ]
     },
     "metadata": {},
     "output_type": "display_data"
    }
   ],
   "source": [
    "graph_wo_triangles = gb.Matrix.from_coo(\n",
    "    [0, 1],\n",
    "    [1, 2],\n",
    "    [1, 1],\n",
    "    nrows=3,\n",
    "    ncols=3\n",
    ")\n",
    "gb.viz.draw(graph_wo_triangles)"
   ]
  },
  {
   "cell_type": "code",
   "execution_count": 80,
   "id": "c26f10d3",
   "metadata": {
    "ExecuteTime": {
     "end_time": "2024-05-12T11:04:06.378396Z",
     "start_time": "2024-05-12T11:04:06.322298Z"
    }
   },
   "outputs": [
    {
     "data": {
      "text/plain": [
       "array([0, 0, 0], dtype=int64)"
      ]
     },
     "execution_count": 80,
     "metadata": {},
     "output_type": "execute_result"
    }
   ],
   "source": [
    "res = n_triangles_for_vertex(graph_wo_triangles)\n",
    "res"
   ]
  },
  {
   "cell_type": "code",
   "execution_count": 82,
   "id": "6d72f207",
   "metadata": {
    "ExecuteTime": {
     "end_time": "2024-05-12T11:04:15.557700Z",
     "start_time": "2024-05-12T11:04:15.554776Z"
    }
   },
   "outputs": [],
   "source": [
    "assert (res == np.array([0, 0, 0])).all()"
   ]
  },
  {
   "cell_type": "code",
   "execution_count": 21,
   "id": "0663a4a9",
   "metadata": {
    "ExecuteTime": {
     "end_time": "2024-05-12T10:39:43.295936Z",
     "start_time": "2024-05-12T10:39:43.191195Z"
    }
   },
   "outputs": [
    {
     "data": {
      "image/png": "[encoded data removed]",
      "text/plain": [
       "<Figure size 640x480 with 1 Axes>"
      ]
     },
     "metadata": {},
     "output_type": "display_data"
    }
   ],
   "source": [
    "graph_w_triangles = gb.Matrix.from_coo(\n",
    "    [0, 2, 0, 1, 2, 2, 3, 3, 1, 0, 3, 1],\n",
    "    [2, 0, 3, 2, 1, 3, 0, 2, 0, 1, 1, 3],\n",
    "    [1, 1, 1, 1, 1, 1, 1, 1, 1, 1, 1, 1],\n",
    "    nrows=4,\n",
    "    ncols=4\n",
    ")\n",
    "gb.viz.draw(graph_w_triangles)"
   ]
  },
  {
   "cell_type": "code",
   "execution_count": 83,
   "id": "38a9207e",
   "metadata": {
    "ExecuteTime": {
     "end_time": "2024-05-12T11:04:18.774148Z",
     "start_time": "2024-05-12T11:04:18.723183Z"
    }
   },
   "outputs": [
    {
     "data": {
      "text/plain": [
       "array([3, 3, 3, 3], dtype=int64)"
      ]
     },
     "execution_count": 83,
     "metadata": {},
     "output_type": "execute_result"
    }
   ],
   "source": [
    "res = n_triangles_for_vertex(graph_w_triangles)\n",
    "res"
   ]
  },
  {
   "cell_type": "code",
   "execution_count": 84,
   "id": "f8d4e9c1",
   "metadata": {
    "ExecuteTime": {
     "end_time": "2024-05-12T11:04:19.256821Z",
     "start_time": "2024-05-12T11:04:19.253599Z"
    }
   },
   "outputs": [],
   "source": [
    "assert (res == np.array([3, 3, 3, 3])).all()"
   ]
  },
  {
   "cell_type": "markdown",
   "id": "0e0299e1",
   "metadata": {},
   "source": [
    "## algs"
   ]
  },
  {
   "cell_type": "code",
   "execution_count": 53,
   "id": "07e62205",
   "metadata": {
    "ExecuteTime": {
     "end_time": "2024-05-12T10:52:55.969860Z",
     "start_time": "2024-05-12T10:52:55.967466Z"
    }
   },
   "outputs": [],
   "source": [
    "algs = {\n",
    "    'Naive': naive_alg,\n",
    "    'Naive with mask': naive_alg_with_mask,\n",
    "    'Сohens algorithm': сohens_alg,\n",
    "    'Sandia algorithm': sandia_alg,\n",
    "}\n",
    "graphs = {\n",
    "    'Graph without triangles': graph_wo_triangles,\n",
    "    'Graph with triangles': graph_w_triangles,\n",
    "}"
   ]
  },
  {
   "cell_type": "code",
   "execution_count": 55,
   "id": "6fa61eba",
   "metadata": {
    "ExecuteTime": {
     "end_time": "2024-05-12T10:55:29.245933Z",
     "start_time": "2024-05-12T10:54:36.287887Z"
    }
   },
   "outputs": [
    {
     "data": {
      "text/markdown": [
       "# Graph without triangles"
      ],
      "text/plain": [
       "<IPython.core.display.Markdown object>"
      ]
     },
     "metadata": {},
     "output_type": "display_data"
    },
    {
     "data": {
      "text/markdown": [
       "### Naive"
      ],
      "text/plain": [
       "<IPython.core.display.Markdown object>"
      ]
     },
     "metadata": {},
     "output_type": "display_data"
    },
    {
     "name": "stdout",
     "output_type": "stream",
     "text": [
      "Result: 0\n",
      "Time: \n",
      "69.4 µs ± 1.76 µs per loop (mean ± std. dev. of 7 runs, 10,000 loops each)\n",
      "\n"
     ]
    },
    {
     "data": {
      "text/markdown": [
       "### Naive with mask"
      ],
      "text/plain": [
       "<IPython.core.display.Markdown object>"
      ]
     },
     "metadata": {},
     "output_type": "display_data"
    },
    {
     "name": "stdout",
     "output_type": "stream",
     "text": [
      "Result: 0\n",
      "Time: \n",
      "56.4 µs ± 6.69 µs per loop (mean ± std. dev. of 7 runs, 10,000 loops each)\n",
      "\n"
     ]
    },
    {
     "data": {
      "text/markdown": [
       "### Сohens algorithm"
      ],
      "text/plain": [
       "<IPython.core.display.Markdown object>"
      ]
     },
     "metadata": {},
     "output_type": "display_data"
    },
    {
     "name": "stdout",
     "output_type": "stream",
     "text": [
      "Result: 0\n",
      "Time: \n",
      "106 µs ± 3.25 µs per loop (mean ± std. dev. of 7 runs, 10,000 loops each)\n",
      "\n"
     ]
    },
    {
     "data": {
      "text/markdown": [
       "### Sandia algorithm"
      ],
      "text/plain": [
       "<IPython.core.display.Markdown object>"
      ]
     },
     "metadata": {},
     "output_type": "display_data"
    },
    {
     "name": "stdout",
     "output_type": "stream",
     "text": [
      "Result: 0\n",
      "Time: \n",
      "111 µs ± 390 ns per loop (mean ± std. dev. of 7 runs, 10,000 loops each)\n",
      "\n"
     ]
    },
    {
     "data": {
      "text/markdown": [
       "# Graph with triangles"
      ],
      "text/plain": [
       "<IPython.core.display.Markdown object>"
      ]
     },
     "metadata": {},
     "output_type": "display_data"
    },
    {
     "data": {
      "text/markdown": [
       "### Naive"
      ],
      "text/plain": [
       "<IPython.core.display.Markdown object>"
      ]
     },
     "metadata": {},
     "output_type": "display_data"
    },
    {
     "name": "stdout",
     "output_type": "stream",
     "text": [
      "Result: 4\n",
      "Time: \n",
      "72.1 µs ± 1.11 µs per loop (mean ± std. dev. of 7 runs, 10,000 loops each)\n",
      "\n"
     ]
    },
    {
     "data": {
      "text/markdown": [
       "### Naive with mask"
      ],
      "text/plain": [
       "<IPython.core.display.Markdown object>"
      ]
     },
     "metadata": {},
     "output_type": "display_data"
    },
    {
     "name": "stdout",
     "output_type": "stream",
     "text": [
      "Result: 4\n",
      "Time: \n",
      "51.7 µs ± 2.36 µs per loop (mean ± std. dev. of 7 runs, 10,000 loops each)\n",
      "\n"
     ]
    },
    {
     "data": {
      "text/markdown": [
       "### Сohens algorithm"
      ],
      "text/plain": [
       "<IPython.core.display.Markdown object>"
      ]
     },
     "metadata": {},
     "output_type": "display_data"
    },
    {
     "name": "stdout",
     "output_type": "stream",
     "text": [
      "Result: 4\n",
      "Time: \n",
      "97.9 µs ± 4.15 µs per loop (mean ± std. dev. of 7 runs, 10,000 loops each)\n",
      "\n"
     ]
    },
    {
     "data": {
      "text/markdown": [
       "### Sandia algorithm"
      ],
      "text/plain": [
       "<IPython.core.display.Markdown object>"
      ]
     },
     "metadata": {},
     "output_type": "display_data"
    },
    {
     "name": "stdout",
     "output_type": "stream",
     "text": [
      "Result: 4\n",
      "Time: \n",
      "68.8 µs ± 977 ns per loop (mean ± std. dev. of 7 runs, 10,000 loops each)\n",
      "\n"
     ]
    }
   ],
   "source": [
    "for graph_name, graph in graphs.items():\n",
    "    display(Markdown(f'# {graph_name}'))\n",
    "    for alg_name, alg_func in algs.items():\n",
    "        display(Markdown(f'### {alg_name}'))\n",
    "        print(f'Result: {alg_func(graph)}')\n",
    "        print(f'Time: ')\n",
    "        %timeit alg_func(graph)\n",
    "        print()"
   ]
  },
  {
   "cell_type": "markdown",
   "id": "25f9902c",
   "metadata": {},
   "source": [
    "# Задание 7. Настоящие графы\n",
    "- (+1 балл) Скачать 10 графов в формате Matrix Market с сайта SuiteSparse Matrix Collection и оценить время работы всех полученных реализаций. Сделать выводы.\n",
    "  - В качестве фильтров для поиска графов на сайте использовать следующие значения: Rutherford-Boeing Type = Binary, Special Structure = Symmetric, Nonzeros.Min = 10000."
   ]
  },
  {
   "cell_type": "code",
   "execution_count": 114,
   "id": "4342be5b",
   "metadata": {
    "ExecuteTime": {
     "end_time": "2024-05-12T11:43:22.066145Z",
     "start_time": "2024-05-12T11:43:22.062574Z"
    }
   },
   "outputs": [
    {
     "data": {
      "text/plain": [
       "['delaunay_n11.mtx',\n",
       " 'delaunay_n12.mtx',\n",
       " 'delaunay_n14.mtx',\n",
       " 'delaunay_n15.mtx',\n",
       " 'Erdos972.mtx',\n",
       " 'EX4.mtx',\n",
       " 'G43.mtx',\n",
       " 'pds10.mtx',\n",
       " 'usroads.mtx',\n",
       " 'wing_nodal.mtx']"
      ]
     },
     "execution_count": 114,
     "metadata": {},
     "output_type": "execute_result"
    }
   ],
   "source": [
    "files = [elem for elem in os.listdir('C:/Users/Екатерина/jupyter/graph_lab/lab01/') if '.mtx' in elem]\n",
    "files"
   ]
  },
  {
   "cell_type": "code",
   "execution_count": 115,
   "id": "495874b2",
   "metadata": {
    "ExecuteTime": {
     "end_time": "2024-05-12T11:43:22.674655Z",
     "start_time": "2024-05-12T11:43:22.670514Z"
    }
   },
   "outputs": [
    {
     "data": {
      "text/plain": [
       "10"
      ]
     },
     "execution_count": 115,
     "metadata": {},
     "output_type": "execute_result"
    }
   ],
   "source": [
    "len(files)"
   ]
  },
  {
   "cell_type": "code",
   "execution_count": 116,
   "id": "17d9c50d",
   "metadata": {
    "ExecuteTime": {
     "end_time": "2024-05-12T11:43:23.239708Z",
     "start_time": "2024-05-12T11:43:23.138041Z"
    }
   },
   "outputs": [],
   "source": [
    "real_graphs = dict()\n",
    "for file_name in files:\n",
    "    real_graphs[file_name.replace('.mtx', '')] = mmread(file_name)"
   ]
  },
  {
   "cell_type": "code",
   "execution_count": 117,
   "id": "a41ba027",
   "metadata": {
    "ExecuteTime": {
     "end_time": "2024-05-12T11:47:32.575690Z",
     "start_time": "2024-05-12T11:43:25.024862Z"
    },
    "scrolled": true
   },
   "outputs": [
    {
     "data": {
      "text/markdown": [
       "# Graph name: delaunay_n11 (1/10)"
      ],
      "text/plain": [
       "<IPython.core.display.Markdown object>"
      ]
     },
     "metadata": {},
     "output_type": "display_data"
    },
    {
     "name": "stdout",
     "output_type": "stream",
     "text": [
      "Количество вершин = 2048, количество ребер = 12254\n"
     ]
    },
    {
     "data": {
      "text/markdown": [
       "### Naive"
      ],
      "text/plain": [
       "<IPython.core.display.Markdown object>"
      ]
     },
     "metadata": {},
     "output_type": "display_data"
    },
    {
     "name": "stdout",
     "output_type": "stream",
     "text": [
      "Result: 4104\n",
      "Time: \n",
      "4.32 ms ± 65.1 µs per loop (mean ± std. dev. of 7 runs, 100 loops each)\n"
     ]
    },
    {
     "data": {
      "text/markdown": [
       "### Naive with mask"
      ],
      "text/plain": [
       "<IPython.core.display.Markdown object>"
      ]
     },
     "metadata": {},
     "output_type": "display_data"
    },
    {
     "name": "stdout",
     "output_type": "stream",
     "text": [
      "Result: 4104\n",
      "Time: \n",
      "748 µs ± 25.5 µs per loop (mean ± std. dev. of 7 runs, 1,000 loops each)\n"
     ]
    },
    {
     "data": {
      "text/markdown": [
       "### Сohens algorithm"
      ],
      "text/plain": [
       "<IPython.core.display.Markdown object>"
      ]
     },
     "metadata": {},
     "output_type": "display_data"
    },
    {
     "name": "stdout",
     "output_type": "stream",
     "text": [
      "Result: 4104\n",
      "Time: \n",
      "707 µs ± 40.9 µs per loop (mean ± std. dev. of 7 runs, 1,000 loops each)\n"
     ]
    },
    {
     "data": {
      "text/markdown": [
       "### Sandia algorithm"
      ],
      "text/plain": [
       "<IPython.core.display.Markdown object>"
      ]
     },
     "metadata": {},
     "output_type": "display_data"
    },
    {
     "name": "stdout",
     "output_type": "stream",
     "text": [
      "Result: 4104\n",
      "Time: \n",
      "492 µs ± 13.8 µs per loop (mean ± std. dev. of 7 runs, 1,000 loops each)\n"
     ]
    },
    {
     "data": {
      "text/markdown": [
       "# Graph name: delaunay_n12 (2/10)"
      ],
      "text/plain": [
       "<IPython.core.display.Markdown object>"
      ]
     },
     "metadata": {},
     "output_type": "display_data"
    },
    {
     "name": "stdout",
     "output_type": "stream",
     "text": [
      "Количество вершин = 4096, количество ребер = 24528\n"
     ]
    },
    {
     "data": {
      "text/markdown": [
       "### Naive"
      ],
      "text/plain": [
       "<IPython.core.display.Markdown object>"
      ]
     },
     "metadata": {},
     "output_type": "display_data"
    },
    {
     "name": "stdout",
     "output_type": "stream",
     "text": [
      "Result: 8215\n",
      "Time: \n",
      "5.93 ms ± 75.4 µs per loop (mean ± std. dev. of 7 runs, 100 loops each)\n"
     ]
    },
    {
     "data": {
      "text/markdown": [
       "### Naive with mask"
      ],
      "text/plain": [
       "<IPython.core.display.Markdown object>"
      ]
     },
     "metadata": {},
     "output_type": "display_data"
    },
    {
     "name": "stdout",
     "output_type": "stream",
     "text": [
      "Result: 8215\n",
      "Time: \n",
      "1.26 ms ± 34.5 µs per loop (mean ± std. dev. of 7 runs, 1,000 loops each)\n"
     ]
    },
    {
     "data": {
      "text/markdown": [
       "### Сohens algorithm"
      ],
      "text/plain": [
       "<IPython.core.display.Markdown object>"
      ]
     },
     "metadata": {},
     "output_type": "display_data"
    },
    {
     "name": "stdout",
     "output_type": "stream",
     "text": [
      "Result: 8215\n",
      "Time: \n",
      "1.29 ms ± 64.2 µs per loop (mean ± std. dev. of 7 runs, 1,000 loops each)\n"
     ]
    },
    {
     "data": {
      "text/markdown": [
       "### Sandia algorithm"
      ],
      "text/plain": [
       "<IPython.core.display.Markdown object>"
      ]
     },
     "metadata": {},
     "output_type": "display_data"
    },
    {
     "name": "stdout",
     "output_type": "stream",
     "text": [
      "Result: 8215\n",
      "Time: \n",
      "904 µs ± 25.9 µs per loop (mean ± std. dev. of 7 runs, 1,000 loops each)\n"
     ]
    },
    {
     "data": {
      "text/markdown": [
       "# Graph name: delaunay_n14 (3/10)"
      ],
      "text/plain": [
       "<IPython.core.display.Markdown object>"
      ]
     },
     "metadata": {},
     "output_type": "display_data"
    },
    {
     "name": "stdout",
     "output_type": "stream",
     "text": [
      "Количество вершин = 16384, количество ребер = 98244\n"
     ]
    },
    {
     "data": {
      "text/markdown": [
       "### Naive"
      ],
      "text/plain": [
       "<IPython.core.display.Markdown object>"
      ]
     },
     "metadata": {},
     "output_type": "display_data"
    },
    {
     "name": "stdout",
     "output_type": "stream",
     "text": [
      "Result: 32921\n",
      "Time: \n",
      "9.62 ms ± 53.8 µs per loop (mean ± std. dev. of 7 runs, 100 loops each)\n"
     ]
    },
    {
     "data": {
      "text/markdown": [
       "### Naive with mask"
      ],
      "text/plain": [
       "<IPython.core.display.Markdown object>"
      ]
     },
     "metadata": {},
     "output_type": "display_data"
    },
    {
     "name": "stdout",
     "output_type": "stream",
     "text": [
      "Result: 32921\n",
      "Time: \n",
      "2.4 ms ± 91.4 µs per loop (mean ± std. dev. of 7 runs, 100 loops each)\n"
     ]
    },
    {
     "data": {
      "text/markdown": [
       "### Сohens algorithm"
      ],
      "text/plain": [
       "<IPython.core.display.Markdown object>"
      ]
     },
     "metadata": {},
     "output_type": "display_data"
    },
    {
     "name": "stdout",
     "output_type": "stream",
     "text": [
      "Result: 32921\n",
      "Time: \n",
      "2.36 ms ± 169 µs per loop (mean ± std. dev. of 7 runs, 100 loops each)\n"
     ]
    },
    {
     "data": {
      "text/markdown": [
       "### Sandia algorithm"
      ],
      "text/plain": [
       "<IPython.core.display.Markdown object>"
      ]
     },
     "metadata": {},
     "output_type": "display_data"
    },
    {
     "name": "stdout",
     "output_type": "stream",
     "text": [
      "Result: 32921\n",
      "Time: \n",
      "2.38 ms ± 315 µs per loop (mean ± std. dev. of 7 runs, 100 loops each)\n"
     ]
    },
    {
     "data": {
      "text/markdown": [
       "# Graph name: delaunay_n15 (4/10)"
      ],
      "text/plain": [
       "<IPython.core.display.Markdown object>"
      ]
     },
     "metadata": {},
     "output_type": "display_data"
    },
    {
     "name": "stdout",
     "output_type": "stream",
     "text": [
      "Количество вершин = 32768, количество ребер = 196548\n"
     ]
    },
    {
     "data": {
      "text/markdown": [
       "### Naive"
      ],
      "text/plain": [
       "<IPython.core.display.Markdown object>"
      ]
     },
     "metadata": {},
     "output_type": "display_data"
    },
    {
     "name": "stdout",
     "output_type": "stream",
     "text": [
      "Result: 65872\n",
      "Time: \n",
      "18.2 ms ± 2.13 ms per loop (mean ± std. dev. of 7 runs, 10 loops each)\n"
     ]
    },
    {
     "data": {
      "text/markdown": [
       "### Naive with mask"
      ],
      "text/plain": [
       "<IPython.core.display.Markdown object>"
      ]
     },
     "metadata": {},
     "output_type": "display_data"
    },
    {
     "name": "stdout",
     "output_type": "stream",
     "text": [
      "Result: 65872\n",
      "Time: \n",
      "4.11 ms ± 47.2 µs per loop (mean ± std. dev. of 7 runs, 100 loops each)\n"
     ]
    },
    {
     "data": {
      "text/markdown": [
       "### Сohens algorithm"
      ],
      "text/plain": [
       "<IPython.core.display.Markdown object>"
      ]
     },
     "metadata": {},
     "output_type": "display_data"
    },
    {
     "name": "stdout",
     "output_type": "stream",
     "text": [
      "Result: 65872\n",
      "Time: \n",
      "3.62 ms ± 55.1 µs per loop (mean ± std. dev. of 7 runs, 100 loops each)\n"
     ]
    },
    {
     "data": {
      "text/markdown": [
       "### Sandia algorithm"
      ],
      "text/plain": [
       "<IPython.core.display.Markdown object>"
      ]
     },
     "metadata": {},
     "output_type": "display_data"
    },
    {
     "name": "stdout",
     "output_type": "stream",
     "text": [
      "Result: 65872\n",
      "Time: \n",
      "3.07 ms ± 166 µs per loop (mean ± std. dev. of 7 runs, 100 loops each)\n"
     ]
    },
    {
     "data": {
      "text/markdown": [
       "# Graph name: Erdos972 (5/10)"
      ],
      "text/plain": [
       "<IPython.core.display.Markdown object>"
      ]
     },
     "metadata": {},
     "output_type": "display_data"
    },
    {
     "name": "stdout",
     "output_type": "stream",
     "text": [
      "Количество вершин = 5488, количество ребер = 14170\n"
     ]
    },
    {
     "data": {
      "text/markdown": [
       "### Naive"
      ],
      "text/plain": [
       "<IPython.core.display.Markdown object>"
      ]
     },
     "metadata": {},
     "output_type": "display_data"
    },
    {
     "name": "stdout",
     "output_type": "stream",
     "text": [
      "Result: 1500\n",
      "Time: \n",
      "7.79 ms ± 117 µs per loop (mean ± std. dev. of 7 runs, 100 loops each)\n"
     ]
    },
    {
     "data": {
      "text/markdown": [
       "### Naive with mask"
      ],
      "text/plain": [
       "<IPython.core.display.Markdown object>"
      ]
     },
     "metadata": {},
     "output_type": "display_data"
    },
    {
     "name": "stdout",
     "output_type": "stream",
     "text": [
      "Result: 1500\n",
      "Time: \n",
      "566 µs ± 36.3 µs per loop (mean ± std. dev. of 7 runs, 1,000 loops each)\n"
     ]
    },
    {
     "data": {
      "text/markdown": [
       "### Сohens algorithm"
      ],
      "text/plain": [
       "<IPython.core.display.Markdown object>"
      ]
     },
     "metadata": {},
     "output_type": "display_data"
    },
    {
     "name": "stdout",
     "output_type": "stream",
     "text": [
      "Result: 1500\n",
      "Time: \n",
      "568 µs ± 33.3 µs per loop (mean ± std. dev. of 7 runs, 1,000 loops each)\n"
     ]
    },
    {
     "data": {
      "text/markdown": [
       "### Sandia algorithm"
      ],
      "text/plain": [
       "<IPython.core.display.Markdown object>"
      ]
     },
     "metadata": {},
     "output_type": "display_data"
    },
    {
     "name": "stdout",
     "output_type": "stream",
     "text": [
      "Result: 1500\n",
      "Time: \n",
      "522 µs ± 27.4 µs per loop (mean ± std. dev. of 7 runs, 1,000 loops each)\n"
     ]
    },
    {
     "data": {
      "text/markdown": [
       "# Graph name: EX4 (6/10)"
      ],
      "text/plain": [
       "<IPython.core.display.Markdown object>"
      ]
     },
     "metadata": {},
     "output_type": "display_data"
    },
    {
     "name": "stdout",
     "output_type": "stream",
     "text": [
      "Количество вершин = 2600, количество ребер = 71760\n"
     ]
    },
    {
     "data": {
      "text/markdown": [
       "### Naive"
      ],
      "text/plain": [
       "<IPython.core.display.Markdown object>"
      ]
     },
     "metadata": {},
     "output_type": "display_data"
    },
    {
     "name": "stdout",
     "output_type": "stream",
     "text": [
      "Result: 35880\n",
      "Time: \n",
      "43.7 ms ± 1.59 ms per loop (mean ± std. dev. of 7 runs, 10 loops each)\n"
     ]
    },
    {
     "data": {
      "text/markdown": [
       "### Naive with mask"
      ],
      "text/plain": [
       "<IPython.core.display.Markdown object>"
      ]
     },
     "metadata": {},
     "output_type": "display_data"
    },
    {
     "name": "stdout",
     "output_type": "stream",
     "text": [
      "Result: 35880\n",
      "Time: \n",
      "1.91 ms ± 64.6 µs per loop (mean ± std. dev. of 7 runs, 1,000 loops each)\n"
     ]
    },
    {
     "data": {
      "text/markdown": [
       "### Сohens algorithm"
      ],
      "text/plain": [
       "<IPython.core.display.Markdown object>"
      ]
     },
     "metadata": {},
     "output_type": "display_data"
    },
    {
     "name": "stdout",
     "output_type": "stream",
     "text": [
      "Result: 35880\n",
      "Time: \n",
      "1.51 ms ± 91.2 µs per loop (mean ± std. dev. of 7 runs, 1,000 loops each)\n"
     ]
    },
    {
     "data": {
      "text/markdown": [
       "### Sandia algorithm"
      ],
      "text/plain": [
       "<IPython.core.display.Markdown object>"
      ]
     },
     "metadata": {},
     "output_type": "display_data"
    },
    {
     "name": "stdout",
     "output_type": "stream",
     "text": [
      "Result: 35880\n",
      "Time: \n",
      "1.05 ms ± 49.1 µs per loop (mean ± std. dev. of 7 runs, 1,000 loops each)\n"
     ]
    },
    {
     "data": {
      "text/markdown": [
       "# Graph name: G43 (7/10)"
      ],
      "text/plain": [
       "<IPython.core.display.Markdown object>"
      ]
     },
     "metadata": {},
     "output_type": "display_data"
    },
    {
     "name": "stdout",
     "output_type": "stream",
     "text": [
      "Количество вершин = 1000, количество ребер = 19980\n"
     ]
    },
    {
     "data": {
      "text/markdown": [
       "### Naive"
      ],
      "text/plain": [
       "<IPython.core.display.Markdown object>"
      ]
     },
     "metadata": {},
     "output_type": "display_data"
    },
    {
     "name": "stdout",
     "output_type": "stream",
     "text": [
      "Result: 1392\n",
      "Time: \n",
      "13.4 ms ± 85.7 µs per loop (mean ± std. dev. of 7 runs, 100 loops each)\n"
     ]
    },
    {
     "data": {
      "text/markdown": [
       "### Naive with mask"
      ],
      "text/plain": [
       "<IPython.core.display.Markdown object>"
      ]
     },
     "metadata": {},
     "output_type": "display_data"
    },
    {
     "name": "stdout",
     "output_type": "stream",
     "text": [
      "Result: 1392\n",
      "Time: \n",
      "579 µs ± 25.6 µs per loop (mean ± std. dev. of 7 runs, 1,000 loops each)\n"
     ]
    },
    {
     "data": {
      "text/markdown": [
       "### Сohens algorithm"
      ],
      "text/plain": [
       "<IPython.core.display.Markdown object>"
      ]
     },
     "metadata": {},
     "output_type": "display_data"
    },
    {
     "name": "stdout",
     "output_type": "stream",
     "text": [
      "Result: 1392\n",
      "Time: \n",
      "580 µs ± 74.9 µs per loop (mean ± std. dev. of 7 runs, 1,000 loops each)\n"
     ]
    },
    {
     "data": {
      "text/markdown": [
       "### Sandia algorithm"
      ],
      "text/plain": [
       "<IPython.core.display.Markdown object>"
      ]
     },
     "metadata": {},
     "output_type": "display_data"
    },
    {
     "name": "stdout",
     "output_type": "stream",
     "text": [
      "Result: 1392\n",
      "Time: \n",
      "472 µs ± 6.39 µs per loop (mean ± std. dev. of 7 runs, 1,000 loops each)\n"
     ]
    },
    {
     "data": {
      "text/markdown": [
       "# Graph name: pds10 (8/10)"
      ],
      "text/plain": [
       "<IPython.core.display.Markdown object>"
      ]
     },
     "metadata": {},
     "output_type": "display_data"
    },
    {
     "name": "stdout",
     "output_type": "stream",
     "text": [
      "Количество вершин = 16558, количество ребер = 149658\n"
     ]
    },
    {
     "data": {
      "text/markdown": [
       "### Naive"
      ],
      "text/plain": [
       "<IPython.core.display.Markdown object>"
      ]
     },
     "metadata": {},
     "output_type": "display_data"
    },
    {
     "name": "stdout",
     "output_type": "stream",
     "text": [
      "Result: 79682\n",
      "Time: \n",
      "The slowest run took 8.70 times longer than the fastest. This could mean that an intermediate result is being cached.\n",
      "90.7 ms ± 96.3 ms per loop (mean ± std. dev. of 7 runs, 10 loops each)\n"
     ]
    },
    {
     "data": {
      "text/markdown": [
       "### Naive with mask"
      ],
      "text/plain": [
       "<IPython.core.display.Markdown object>"
      ]
     },
     "metadata": {},
     "output_type": "display_data"
    },
    {
     "name": "stdout",
     "output_type": "stream",
     "text": [
      "Result: 79682\n",
      "Time: \n",
      "3.99 ms ± 344 µs per loop (mean ± std. dev. of 7 runs, 100 loops each)\n"
     ]
    },
    {
     "data": {
      "text/markdown": [
       "### Сohens algorithm"
      ],
      "text/plain": [
       "<IPython.core.display.Markdown object>"
      ]
     },
     "metadata": {},
     "output_type": "display_data"
    },
    {
     "name": "stdout",
     "output_type": "stream",
     "text": [
      "Result: 118477\n",
      "Time: \n",
      "3.6 ms ± 188 µs per loop (mean ± std. dev. of 7 runs, 100 loops each)\n"
     ]
    },
    {
     "data": {
      "text/markdown": [
       "### Sandia algorithm"
      ],
      "text/plain": [
       "<IPython.core.display.Markdown object>"
      ]
     },
     "metadata": {},
     "output_type": "display_data"
    },
    {
     "name": "stdout",
     "output_type": "stream",
     "text": [
      "Result: 160031\n",
      "Time: \n",
      "2.37 ms ± 174 µs per loop (mean ± std. dev. of 7 runs, 1,000 loops each)\n"
     ]
    },
    {
     "data": {
      "text/markdown": [
       "# Graph name: usroads (9/10)"
      ],
      "text/plain": [
       "<IPython.core.display.Markdown object>"
      ]
     },
     "metadata": {},
     "output_type": "display_data"
    },
    {
     "name": "stdout",
     "output_type": "stream",
     "text": [
      "Количество вершин = 129164, количество ребер = 330870\n"
     ]
    },
    {
     "data": {
      "text/markdown": [
       "### Naive"
      ],
      "text/plain": [
       "<IPython.core.display.Markdown object>"
      ]
     },
     "metadata": {},
     "output_type": "display_data"
    },
    {
     "name": "stdout",
     "output_type": "stream",
     "text": [
      "Result: 4237\n",
      "Time: \n",
      "13.6 ms ± 847 µs per loop (mean ± std. dev. of 7 runs, 100 loops each)\n"
     ]
    },
    {
     "data": {
      "text/markdown": [
       "### Naive with mask"
      ],
      "text/plain": [
       "<IPython.core.display.Markdown object>"
      ]
     },
     "metadata": {},
     "output_type": "display_data"
    },
    {
     "name": "stdout",
     "output_type": "stream",
     "text": [
      "Result: 4237\n",
      "Time: \n",
      "3.57 ms ± 55.9 µs per loop (mean ± std. dev. of 7 runs, 100 loops each)\n"
     ]
    },
    {
     "data": {
      "text/markdown": [
       "### Сohens algorithm"
      ],
      "text/plain": [
       "<IPython.core.display.Markdown object>"
      ]
     },
     "metadata": {},
     "output_type": "display_data"
    },
    {
     "name": "stdout",
     "output_type": "stream",
     "text": [
      "Result: 4237\n",
      "Time: \n",
      "5.86 ms ± 85.8 µs per loop (mean ± std. dev. of 7 runs, 100 loops each)\n"
     ]
    },
    {
     "data": {
      "text/markdown": [
       "### Sandia algorithm"
      ],
      "text/plain": [
       "<IPython.core.display.Markdown object>"
      ]
     },
     "metadata": {},
     "output_type": "display_data"
    },
    {
     "name": "stdout",
     "output_type": "stream",
     "text": [
      "Result: 4237\n",
      "Time: \n",
      "4.28 ms ± 66.4 µs per loop (mean ± std. dev. of 7 runs, 100 loops each)\n"
     ]
    },
    {
     "data": {
      "text/markdown": [
       "# Graph name: wing_nodal (10/10)"
      ],
      "text/plain": [
       "<IPython.core.display.Markdown object>"
      ]
     },
     "metadata": {},
     "output_type": "display_data"
    },
    {
     "name": "stdout",
     "output_type": "stream",
     "text": [
      "Количество вершин = 10937, количество ребер = 150976\n"
     ]
    },
    {
     "data": {
      "text/markdown": [
       "### Naive"
      ],
      "text/plain": [
       "<IPython.core.display.Markdown object>"
      ]
     },
     "metadata": {},
     "output_type": "display_data"
    },
    {
     "name": "stdout",
     "output_type": "stream",
     "text": [
      "Result: 133847\n",
      "Time: \n",
      "24.1 ms ± 595 µs per loop (mean ± std. dev. of 7 runs, 10 loops each)\n"
     ]
    },
    {
     "data": {
      "text/markdown": [
       "### Naive with mask"
      ],
      "text/plain": [
       "<IPython.core.display.Markdown object>"
      ]
     },
     "metadata": {},
     "output_type": "display_data"
    },
    {
     "name": "stdout",
     "output_type": "stream",
     "text": [
      "Result: 133847\n",
      "Time: \n",
      "5.1 ms ± 85.7 µs per loop (mean ± std. dev. of 7 runs, 100 loops each)\n"
     ]
    },
    {
     "data": {
      "text/markdown": [
       "### Сohens algorithm"
      ],
      "text/plain": [
       "<IPython.core.display.Markdown object>"
      ]
     },
     "metadata": {},
     "output_type": "display_data"
    },
    {
     "name": "stdout",
     "output_type": "stream",
     "text": [
      "Result: 133847\n",
      "Time: \n",
      "4.07 ms ± 180 µs per loop (mean ± std. dev. of 7 runs, 100 loops each)\n"
     ]
    },
    {
     "data": {
      "text/markdown": [
       "### Sandia algorithm"
      ],
      "text/plain": [
       "<IPython.core.display.Markdown object>"
      ]
     },
     "metadata": {},
     "output_type": "display_data"
    },
    {
     "name": "stdout",
     "output_type": "stream",
     "text": [
      "Result: 133847\n",
      "Time: \n",
      "2.95 ms ± 322 µs per loop (mean ± std. dev. of 7 runs, 100 loops each)\n"
     ]
    }
   ],
   "source": [
    "for i, (graph_name, graph) in enumerate(real_graphs.items()):\n",
    "    display(Markdown(f'# Graph name: {graph_name} ({i+1}/{len(real_graphs)})'))\n",
    "    print(f'Количество вершин = {graph.shape[0]}, количество ребер = {len(graph.to_coo()[0])}')\n",
    "    for alg_name, alg_func in algs.items():\n",
    "        display(Markdown(f'### {alg_name}'))\n",
    "        print(f'Result: {alg_func(graph)}')\n",
    "        print(f'Time: ')\n",
    "        %timeit alg_func(graph)"
   ]
  },
  {
   "cell_type": "markdown",
   "id": "e30e6302",
   "metadata": {},
   "source": [
    "## Выводы\n",
    "1. Наивные алгоримы проигрывают остальным. При этом наивный алгоритм с маской работает быстрее.\n",
    "2. Сohens algorithm и Sandia algorithm являются более эффективными. При этом Sandia algorithm зачастую работает быстрее Сohens algorithm."
   ]
  },
  {
   "cell_type": "markdown",
   "id": "a764d59e",
   "metadata": {},
   "source": [
    "# Задание 8. Генератор случайных неориентированных графов\n",
    "- (+2 балла) Реализовать генератор случайных неориентированных графов, в котором можно задавать количество вершин и степень разреженности графа. Путём генерации случайных графов различного размера и с разной степенью разреженности, оценить время работы всех полученных реализаций и исследовать границы их применимости. Сделать выводы."
   ]
  },
  {
   "cell_type": "code",
   "execution_count": 119,
   "id": "8e128f47",
   "metadata": {
    "ExecuteTime": {
     "end_time": "2024-05-12T11:51:43.146891Z",
     "start_time": "2024-05-12T11:51:43.143395Z"
    }
   },
   "outputs": [],
   "source": [
    "def generate_graph(n_vertices, density):\n",
    "    matrix = np.zeros((n_vertices, n_vertices))\n",
    "    for i in range(n_vertices):\n",
    "        for j in range(i, n_vertices):\n",
    "            if np.random.rand() < density:\n",
    "                matrix[i-1, j-1] = 1\n",
    "    np.fill_diagonal(matrix, 0)\n",
    "    matrix += matrix.T\n",
    "    matrix = Matrix.from_dense(matrix, missing_value=0.0)\n",
    "    return matrix"
   ]
  },
  {
   "cell_type": "code",
   "execution_count": 127,
   "id": "fa68d1f5",
   "metadata": {
    "ExecuteTime": {
     "end_time": "2024-05-12T11:52:38.942737Z",
     "start_time": "2024-05-12T11:52:38.929662Z"
    }
   },
   "outputs": [
    {
     "data": {
      "text/html": [
       "<div>\n",
       "<style>\n",
       "table.gb-info-table {\n",
       "    border: 1px solid black;\n",
       "    max-width: 100%;\n",
       "    margin-top: 0px;\n",
       "    margin-bottom: 0px;\n",
       "    padding-top: 0px;\n",
       "    padding-bottom: 0px;\n",
       "}\n",
       "\n",
       "td.gb-info-name-cell {\n",
       "    white-space: nowrap;\n",
       "}\n",
       "\n",
       "details.gb-arg-details {\n",
       "    margin-top: 0px;\n",
       "    margin-bottom: 0px;\n",
       "    padding-top: 0px;\n",
       "    padding-bottom: 5px;\n",
       "    margin-left: 10px;\n",
       "}\n",
       "\n",
       "summary.gb-arg-summary {\n",
       "    display: list-item;\n",
       "    outline: none;\n",
       "    margin-top: 0px;\n",
       "    margin-bottom: 0px;\n",
       "    padding-top: 0px;\n",
       "    padding-bottom: 0px;\n",
       "    margin-left: -10px;\n",
       "}\n",
       "\n",
       "details.gb-expr-details {\n",
       "    margin-top: 0px;\n",
       "    margin-bottom: 0px;\n",
       "    padding-top: 0px;\n",
       "    padding-bottom: 5px;\n",
       "}\n",
       "\n",
       "summary.gb-expr-summary {\n",
       "    display: list-item;\n",
       "    outline: none;\n",
       "    margin-top: 0px;\n",
       "    margin-bottom: 0px;\n",
       "    padding-top: 0px;\n",
       "    padding-bottom: 0px;\n",
       "}\n",
       "\n",
       "blockquote.gb-expr-blockquote {\n",
       "    margin-top: 5px;\n",
       "    margin-bottom: 0px;\n",
       "    padding-top: 0px;\n",
       "    padding-bottom: 0px;\n",
       "    margin-left: 15px;\n",
       "}\n",
       "\n",
       ".gb-scalar {\n",
       "    margin-top: 0px;\n",
       "    margin-bottom: 0px;\n",
       "    padding-top: 0px;\n",
       "    padding-bottom: 5px;\n",
       "}\n",
       "\n",
       "/* modify pandas dataframe */\n",
       "table.dataframe {\n",
       "    margin-top: 0px;\n",
       "    margin-bottom: 0px;\n",
       "    padding-top: 0px;\n",
       "    padding-bottom: 0px;\n",
       "}\n",
       "\n",
       "/* expression tooltips */\n",
       ".expr-tooltip .tooltip-circle {\n",
       "    background: #9a9cc6;\n",
       "    color: #fff;\n",
       "    border-radius: 50%;\n",
       "    width: 40px;\n",
       "    height: 40px;\n",
       "    padding-left: 4px;\n",
       "    padding-right: 4px;\n",
       "}\n",
       ".expr-tooltip .tooltip-text {\n",
       "    visibility: hidden;\n",
       "    position: absolute;\n",
       "    width: 450px;\n",
       "    background: #eef;\n",
       "    border: 1px solid #99a;\n",
       "    text-align: left;\n",
       "    border-radius: 6px;\n",
       "    padding: 3px 3px 3px 8px;\n",
       "    margin-left: 6px;\n",
       "}\n",
       ".expr-tooltip:hover .tooltip-text {\n",
       "    visibility: visible;\n",
       "}\n",
       ".expr-tooltip code {\n",
       "    background-color: #f8ffed;\n",
       "}\n",
       "</style>\n",
       "<details open class=\"gb-arg-details\"><summary class=\"gb-arg-summary\"><tt>M<sub>7481146</sub></tt><div>\n",
       "<table class=\"gb-info-table\">\n",
       "  <tr>\n",
       "    <td rowspan=\"2\" class=\"gb-info-name-cell\"><pre>gb.Matrix</pre></td>\n",
       "    <td><pre>nvals</pre></td>\n",
       "    <td><pre>nrows</pre></td>\n",
       "    <td><pre>ncols</pre></td>\n",
       "    <td><pre>dtype</pre></td>\n",
       "    <td><pre>format</pre></td>\n",
       "  </tr>\n",
       "  <tr>\n",
       "    <td>14</td>\n",
       "    <td>7</td>\n",
       "    <td>7</td>\n",
       "    <td>FP64</td>\n",
       "    <td>bitmapr</td>\n",
       "  </tr>\n",
       "</table>\n",
       "</div>\n",
       "</summary><div>\n",
       "<style scoped>\n",
       "    .dataframe tbody tr th:only-of-type {\n",
       "        vertical-align: middle;\n",
       "    }\n",
       "\n",
       "    .dataframe tbody tr th {\n",
       "        vertical-align: top;\n",
       "    }\n",
       "\n",
       "    .dataframe thead th {\n",
       "        text-align: right;\n",
       "    }\n",
       "</style>\n",
       "<table border=\"1\" class=\"dataframe\">\n",
       "  <thead>\n",
       "    <tr style=\"text-align: right;\">\n",
       "      <th></th>\n",
       "      <th>0</th>\n",
       "      <th>1</th>\n",
       "      <th>2</th>\n",
       "      <th>3</th>\n",
       "      <th>4</th>\n",
       "      <th>5</th>\n",
       "      <th>6</th>\n",
       "    </tr>\n",
       "  </thead>\n",
       "  <tbody>\n",
       "    <tr>\n",
       "      <th>0</th>\n",
       "      <td></td>\n",
       "      <td></td>\n",
       "      <td></td>\n",
       "      <td>1.0</td>\n",
       "      <td>1.0</td>\n",
       "      <td></td>\n",
       "      <td></td>\n",
       "    </tr>\n",
       "    <tr>\n",
       "      <th>1</th>\n",
       "      <td></td>\n",
       "      <td></td>\n",
       "      <td></td>\n",
       "      <td></td>\n",
       "      <td></td>\n",
       "      <td></td>\n",
       "      <td>1.0</td>\n",
       "    </tr>\n",
       "    <tr>\n",
       "      <th>2</th>\n",
       "      <td></td>\n",
       "      <td></td>\n",
       "      <td></td>\n",
       "      <td></td>\n",
       "      <td></td>\n",
       "      <td>1.0</td>\n",
       "      <td></td>\n",
       "    </tr>\n",
       "    <tr>\n",
       "      <th>3</th>\n",
       "      <td>1.0</td>\n",
       "      <td></td>\n",
       "      <td></td>\n",
       "      <td></td>\n",
       "      <td></td>\n",
       "      <td>1.0</td>\n",
       "      <td></td>\n",
       "    </tr>\n",
       "    <tr>\n",
       "      <th>4</th>\n",
       "      <td>1.0</td>\n",
       "      <td></td>\n",
       "      <td></td>\n",
       "      <td></td>\n",
       "      <td></td>\n",
       "      <td></td>\n",
       "      <td>1.0</td>\n",
       "    </tr>\n",
       "    <tr>\n",
       "      <th>5</th>\n",
       "      <td></td>\n",
       "      <td></td>\n",
       "      <td>1.0</td>\n",
       "      <td>1.0</td>\n",
       "      <td></td>\n",
       "      <td></td>\n",
       "      <td>1.0</td>\n",
       "    </tr>\n",
       "    <tr>\n",
       "      <th>6</th>\n",
       "      <td></td>\n",
       "      <td>1.0</td>\n",
       "      <td></td>\n",
       "      <td></td>\n",
       "      <td>1.0</td>\n",
       "      <td>1.0</td>\n",
       "      <td></td>\n",
       "    </tr>\n",
       "  </tbody>\n",
       "</table>\n",
       "</div></details></div>"
      ],
      "text/plain": [
       "\"M_7481146\"  nvals  nrows  ncols  dtype   format\n",
       "gb.Matrix       14      7      7   FP64  bitmapr\n",
       "------------------------------------------------\n",
       "     0    1    2    3    4    5    6\n",
       "0                 1.0  1.0          \n",
       "1                                1.0\n",
       "2                           1.0     \n",
       "3  1.0                      1.0     \n",
       "4  1.0                           1.0\n",
       "5            1.0  1.0            1.0\n",
       "6       1.0            1.0  1.0     "
      ]
     },
     "execution_count": 127,
     "metadata": {},
     "output_type": "execute_result"
    }
   ],
   "source": [
    "test_graph = generate_random_graph(7, 0.3)\n",
    "test_graph"
   ]
  },
  {
   "cell_type": "code",
   "execution_count": 128,
   "id": "e12ce949",
   "metadata": {
    "ExecuteTime": {
     "end_time": "2024-05-12T11:52:40.056621Z",
     "start_time": "2024-05-12T11:52:39.938076Z"
    }
   },
   "outputs": [
    {
     "data": {
      "image/png": "[encoded data removed]",
      "text/plain": [
       "<Figure size 640x480 with 1 Axes>"
      ]
     },
     "metadata": {},
     "output_type": "display_data"
    }
   ],
   "source": [
    "gb.viz.draw(test_graph)"
   ]
  },
  {
   "cell_type": "code",
   "execution_count": 139,
   "id": "3db736b9",
   "metadata": {
    "ExecuteTime": {
     "end_time": "2024-05-12T12:25:57.570186Z",
     "start_time": "2024-05-12T12:25:57.567467Z"
    }
   },
   "outputs": [],
   "source": [
    "from tqdm import tqdm\n",
    "import pandas as pd"
   ]
  },
  {
   "cell_type": "code",
   "execution_count": 138,
   "id": "d31f2837",
   "metadata": {
    "ExecuteTime": {
     "end_time": "2024-05-12T12:25:57.566463Z",
     "start_time": "2024-05-12T12:21:05.593536Z"
    },
    "scrolled": true
   },
   "outputs": [
    {
     "data": {
      "text/markdown": [
       "# Плотность: 0.1"
      ],
      "text/plain": [
       "<IPython.core.display.Markdown object>"
      ]
     },
     "metadata": {},
     "output_type": "display_data"
    },
    {
     "data": {
      "text/markdown": [
       "## Кол-во вершин: 100"
      ],
      "text/plain": [
       "<IPython.core.display.Markdown object>"
      ]
     },
     "metadata": {},
     "output_type": "display_data"
    },
    {
     "name": "stdout",
     "output_type": "stream",
     "text": [
      "Количество вершин = 100, количество ребер = 1024, плотность: 0.1\n"
     ]
    },
    {
     "data": {
      "text/markdown": [
       "### Naive"
      ],
      "text/plain": [
       "<IPython.core.display.Markdown object>"
      ]
     },
     "metadata": {},
     "output_type": "display_data"
    },
    {
     "name": "stdout",
     "output_type": "stream",
     "text": [
      "Result: 187\n",
      "Time: \n",
      "457 µs ± 20.7 µs per loop (mean ± std. dev. of 7 runs, 1,000 loops each)\n"
     ]
    },
    {
     "data": {
      "text/markdown": [
       "### Naive with mask"
      ],
      "text/plain": [
       "<IPython.core.display.Markdown object>"
      ]
     },
     "metadata": {},
     "output_type": "display_data"
    },
    {
     "name": "stdout",
     "output_type": "stream",
     "text": [
      "Result: 187\n",
      "Time: \n",
      "107 µs ± 1.79 µs per loop (mean ± std. dev. of 7 runs, 10,000 loops each)\n"
     ]
    },
    {
     "data": {
      "text/markdown": [
       "### Сohens algorithm"
      ],
      "text/plain": [
       "<IPython.core.display.Markdown object>"
      ]
     },
     "metadata": {},
     "output_type": "display_data"
    },
    {
     "name": "stdout",
     "output_type": "stream",
     "text": [
      "Result: 187\n",
      "Time: \n",
      "139 µs ± 1.39 µs per loop (mean ± std. dev. of 7 runs, 10,000 loops each)\n"
     ]
    },
    {
     "data": {
      "text/markdown": [
       "### Sandia algorithm"
      ],
      "text/plain": [
       "<IPython.core.display.Markdown object>"
      ]
     },
     "metadata": {},
     "output_type": "display_data"
    },
    {
     "name": "stdout",
     "output_type": "stream",
     "text": [
      "Result: 187\n",
      "Time: \n",
      "102 µs ± 2 µs per loop (mean ± std. dev. of 7 runs, 10,000 loops each)\n"
     ]
    },
    {
     "data": {
      "text/markdown": [
       "## Кол-во вершин: 500"
      ],
      "text/plain": [
       "<IPython.core.display.Markdown object>"
      ]
     },
     "metadata": {},
     "output_type": "display_data"
    },
    {
     "name": "stdout",
     "output_type": "stream",
     "text": [
      "Количество вершин = 500, количество ребер = 24884, плотность: 0.1\n"
     ]
    },
    {
     "data": {
      "text/markdown": [
       "### Naive"
      ],
      "text/plain": [
       "<IPython.core.display.Markdown object>"
      ]
     },
     "metadata": {},
     "output_type": "display_data"
    },
    {
     "name": "stdout",
     "output_type": "stream",
     "text": [
      "Result: 20375\n",
      "Time: \n",
      "4.78 ms ± 288 µs per loop (mean ± std. dev. of 7 runs, 100 loops each)\n"
     ]
    },
    {
     "data": {
      "text/markdown": [
       "### Naive with mask"
      ],
      "text/plain": [
       "<IPython.core.display.Markdown object>"
      ]
     },
     "metadata": {},
     "output_type": "display_data"
    },
    {
     "name": "stdout",
     "output_type": "stream",
     "text": [
      "Result: 20375\n",
      "Time: \n",
      "1.2 ms ± 64.8 µs per loop (mean ± std. dev. of 7 runs, 1,000 loops each)\n"
     ]
    },
    {
     "data": {
      "text/markdown": [
       "### Сohens algorithm"
      ],
      "text/plain": [
       "<IPython.core.display.Markdown object>"
      ]
     },
     "metadata": {},
     "output_type": "display_data"
    },
    {
     "name": "stdout",
     "output_type": "stream",
     "text": [
      "Result: 20375\n",
      "Time: \n",
      "916 µs ± 62.8 µs per loop (mean ± std. dev. of 7 runs, 1,000 loops each)\n"
     ]
    },
    {
     "data": {
      "text/markdown": [
       "### Sandia algorithm"
      ],
      "text/plain": [
       "<IPython.core.display.Markdown object>"
      ]
     },
     "metadata": {},
     "output_type": "display_data"
    },
    {
     "name": "stdout",
     "output_type": "stream",
     "text": [
      "Result: 20375\n",
      "Time: \n",
      "701 µs ± 43 µs per loop (mean ± std. dev. of 7 runs, 1,000 loops each)\n"
     ]
    },
    {
     "data": {
      "text/markdown": [
       "## Кол-во вершин: 1000"
      ],
      "text/plain": [
       "<IPython.core.display.Markdown object>"
      ]
     },
     "metadata": {},
     "output_type": "display_data"
    },
    {
     "name": "stdout",
     "output_type": "stream",
     "text": [
      "Количество вершин = 1000, количество ребер = 100102, плотность: 0.1\n"
     ]
    },
    {
     "data": {
      "text/markdown": [
       "### Naive"
      ],
      "text/plain": [
       "<IPython.core.display.Markdown object>"
      ]
     },
     "metadata": {},
     "output_type": "display_data"
    },
    {
     "name": "stdout",
     "output_type": "stream",
     "text": [
      "Result: 167209\n",
      "Time: \n",
      "19 ms ± 863 µs per loop (mean ± std. dev. of 7 runs, 100 loops each)\n"
     ]
    },
    {
     "data": {
      "text/markdown": [
       "### Naive with mask"
      ],
      "text/plain": [
       "<IPython.core.display.Markdown object>"
      ]
     },
     "metadata": {},
     "output_type": "display_data"
    },
    {
     "name": "stdout",
     "output_type": "stream",
     "text": [
      "Result: 167209\n",
      "Time: \n",
      "4.87 ms ± 209 µs per loop (mean ± std. dev. of 7 runs, 100 loops each)\n"
     ]
    },
    {
     "data": {
      "text/markdown": [
       "### Сohens algorithm"
      ],
      "text/plain": [
       "<IPython.core.display.Markdown object>"
      ]
     },
     "metadata": {},
     "output_type": "display_data"
    },
    {
     "name": "stdout",
     "output_type": "stream",
     "text": [
      "Result: 167209\n",
      "Time: \n",
      "2.8 ms ± 311 µs per loop (mean ± std. dev. of 7 runs, 100 loops each)\n"
     ]
    },
    {
     "data": {
      "text/markdown": [
       "### Sandia algorithm"
      ],
      "text/plain": [
       "<IPython.core.display.Markdown object>"
      ]
     },
     "metadata": {},
     "output_type": "display_data"
    },
    {
     "name": "stdout",
     "output_type": "stream",
     "text": [
      "Result: 167209\n",
      "Time: \n",
      "2.53 ms ± 141 µs per loop (mean ± std. dev. of 7 runs, 1,000 loops each)\n"
     ]
    },
    {
     "data": {
      "text/markdown": [
       "# Плотность: 0.5"
      ],
      "text/plain": [
       "<IPython.core.display.Markdown object>"
      ]
     },
     "metadata": {},
     "output_type": "display_data"
    },
    {
     "data": {
      "text/markdown": [
       "## Кол-во вершин: 100"
      ],
      "text/plain": [
       "<IPython.core.display.Markdown object>"
      ]
     },
     "metadata": {},
     "output_type": "display_data"
    },
    {
     "name": "stdout",
     "output_type": "stream",
     "text": [
      "Количество вершин = 100, количество ребер = 4972, плотность: 0.5\n"
     ]
    },
    {
     "data": {
      "text/markdown": [
       "### Naive"
      ],
      "text/plain": [
       "<IPython.core.display.Markdown object>"
      ]
     },
     "metadata": {},
     "output_type": "display_data"
    },
    {
     "name": "stdout",
     "output_type": "stream",
     "text": [
      "Result: 20461\n",
      "Time: \n",
      "2.45 ms ± 71 µs per loop (mean ± std. dev. of 7 runs, 100 loops each)\n"
     ]
    },
    {
     "data": {
      "text/markdown": [
       "### Naive with mask"
      ],
      "text/plain": [
       "<IPython.core.display.Markdown object>"
      ]
     },
     "metadata": {},
     "output_type": "display_data"
    },
    {
     "name": "stdout",
     "output_type": "stream",
     "text": [
      "Result: 20461\n",
      "Time: \n",
      "1.55 ms ± 15.9 µs per loop (mean ± std. dev. of 7 runs, 1,000 loops each)\n"
     ]
    },
    {
     "data": {
      "text/markdown": [
       "### Сohens algorithm"
      ],
      "text/plain": [
       "<IPython.core.display.Markdown object>"
      ]
     },
     "metadata": {},
     "output_type": "display_data"
    },
    {
     "name": "stdout",
     "output_type": "stream",
     "text": [
      "Result: 20461\n",
      "Time: \n",
      "760 µs ± 9.15 µs per loop (mean ± std. dev. of 7 runs, 1,000 loops each)\n"
     ]
    },
    {
     "data": {
      "text/markdown": [
       "### Sandia algorithm"
      ],
      "text/plain": [
       "<IPython.core.display.Markdown object>"
      ]
     },
     "metadata": {},
     "output_type": "display_data"
    },
    {
     "name": "stdout",
     "output_type": "stream",
     "text": [
      "Result: 20461\n",
      "Time: \n",
      "730 µs ± 19.3 µs per loop (mean ± std. dev. of 7 runs, 1,000 loops each)\n"
     ]
    },
    {
     "data": {
      "text/markdown": [
       "## Кол-во вершин: 500"
      ],
      "text/plain": [
       "<IPython.core.display.Markdown object>"
      ]
     },
     "metadata": {},
     "output_type": "display_data"
    },
    {
     "name": "stdout",
     "output_type": "stream",
     "text": [
      "Количество вершин = 500, количество ребер = 124702, плотность: 0.5\n"
     ]
    },
    {
     "data": {
      "text/markdown": [
       "### Naive"
      ],
      "text/plain": [
       "<IPython.core.display.Markdown object>"
      ]
     },
     "metadata": {},
     "output_type": "display_data"
    },
    {
     "name": "stdout",
     "output_type": "stream",
     "text": [
      "Result: 2586591\n",
      "Time: \n",
      "75.9 ms ± 426 µs per loop (mean ± std. dev. of 7 runs, 10 loops each)\n"
     ]
    },
    {
     "data": {
      "text/markdown": [
       "### Naive with mask"
      ],
      "text/plain": [
       "<IPython.core.display.Markdown object>"
      ]
     },
     "metadata": {},
     "output_type": "display_data"
    },
    {
     "name": "stdout",
     "output_type": "stream",
     "text": [
      "Result: 2586591\n",
      "Time: \n",
      "42.4 ms ± 399 µs per loop (mean ± std. dev. of 7 runs, 10 loops each)\n"
     ]
    },
    {
     "data": {
      "text/markdown": [
       "### Сohens algorithm"
      ],
      "text/plain": [
       "<IPython.core.display.Markdown object>"
      ]
     },
     "metadata": {},
     "output_type": "display_data"
    },
    {
     "name": "stdout",
     "output_type": "stream",
     "text": [
      "Result: 2586591\n",
      "Time: \n",
      "19.9 ms ± 96.6 µs per loop (mean ± std. dev. of 7 runs, 100 loops each)\n"
     ]
    },
    {
     "data": {
      "text/markdown": [
       "### Sandia algorithm"
      ],
      "text/plain": [
       "<IPython.core.display.Markdown object>"
      ]
     },
     "metadata": {},
     "output_type": "display_data"
    },
    {
     "name": "stdout",
     "output_type": "stream",
     "text": [
      "Result: 2586591\n",
      "Time: \n",
      "11.3 ms ± 40.3 µs per loop (mean ± std. dev. of 7 runs, 100 loops each)\n"
     ]
    },
    {
     "data": {
      "text/markdown": [
       "## Кол-во вершин: 1000"
      ],
      "text/plain": [
       "<IPython.core.display.Markdown object>"
      ]
     },
     "metadata": {},
     "output_type": "display_data"
    },
    {
     "name": "stdout",
     "output_type": "stream",
     "text": [
      "Количество вершин = 1000, количество ребер = 499314, плотность: 0.5\n"
     ]
    },
    {
     "data": {
      "text/markdown": [
       "### Naive"
      ],
      "text/plain": [
       "<IPython.core.display.Markdown object>"
      ]
     },
     "metadata": {},
     "output_type": "display_data"
    },
    {
     "name": "stdout",
     "output_type": "stream",
     "text": [
      "Result: 20749071\n",
      "Time: \n",
      "608 ms ± 14.8 ms per loop (mean ± std. dev. of 7 runs, 1 loop each)\n"
     ]
    },
    {
     "data": {
      "text/markdown": [
       "### Naive with mask"
      ],
      "text/plain": [
       "<IPython.core.display.Markdown object>"
      ]
     },
     "metadata": {},
     "output_type": "display_data"
    },
    {
     "name": "stdout",
     "output_type": "stream",
     "text": [
      "Result: 20749071\n",
      "Time: \n",
      "334 ms ± 1.51 ms per loop (mean ± std. dev. of 7 runs, 1 loop each)\n"
     ]
    },
    {
     "data": {
      "text/markdown": [
       "### Сohens algorithm"
      ],
      "text/plain": [
       "<IPython.core.display.Markdown object>"
      ]
     },
     "metadata": {},
     "output_type": "display_data"
    },
    {
     "name": "stdout",
     "output_type": "stream",
     "text": [
      "Result: 20749071\n",
      "Time: \n",
      "125 ms ± 979 µs per loop (mean ± std. dev. of 7 runs, 10 loops each)\n"
     ]
    },
    {
     "data": {
      "text/markdown": [
       "### Sandia algorithm"
      ],
      "text/plain": [
       "<IPython.core.display.Markdown object>"
      ]
     },
     "metadata": {},
     "output_type": "display_data"
    },
    {
     "name": "stdout",
     "output_type": "stream",
     "text": [
      "Result: 20749071\n",
      "Time: \n",
      "68.7 ms ± 2.55 ms per loop (mean ± std. dev. of 7 runs, 10 loops each)\n"
     ]
    },
    {
     "data": {
      "text/markdown": [
       "# Плотность: 0.8"
      ],
      "text/plain": [
       "<IPython.core.display.Markdown object>"
      ]
     },
     "metadata": {},
     "output_type": "display_data"
    },
    {
     "data": {
      "text/markdown": [
       "## Кол-во вершин: 100"
      ],
      "text/plain": [
       "<IPython.core.display.Markdown object>"
      ]
     },
     "metadata": {},
     "output_type": "display_data"
    },
    {
     "name": "stdout",
     "output_type": "stream",
     "text": [
      "Количество вершин = 100, количество ребер = 8050, плотность: 0.8\n"
     ]
    },
    {
     "data": {
      "text/markdown": [
       "### Naive"
      ],
      "text/plain": [
       "<IPython.core.display.Markdown object>"
      ]
     },
     "metadata": {},
     "output_type": "display_data"
    },
    {
     "name": "stdout",
     "output_type": "stream",
     "text": [
      "Result: 86853\n",
      "Time: \n",
      "1.78 ms ± 20.6 µs per loop (mean ± std. dev. of 7 runs, 1,000 loops each)\n"
     ]
    },
    {
     "data": {
      "text/markdown": [
       "### Naive with mask"
      ],
      "text/plain": [
       "<IPython.core.display.Markdown object>"
      ]
     },
     "metadata": {},
     "output_type": "display_data"
    },
    {
     "name": "stdout",
     "output_type": "stream",
     "text": [
      "Result: 86853\n",
      "Time: \n",
      "1.38 ms ± 5.33 µs per loop (mean ± std. dev. of 7 runs, 1,000 loops each)\n"
     ]
    },
    {
     "data": {
      "text/markdown": [
       "### Сohens algorithm"
      ],
      "text/plain": [
       "<IPython.core.display.Markdown object>"
      ]
     },
     "metadata": {},
     "output_type": "display_data"
    },
    {
     "name": "stdout",
     "output_type": "stream",
     "text": [
      "Result: 86853\n",
      "Time: \n",
      "718 µs ± 24.4 µs per loop (mean ± std. dev. of 7 runs, 1,000 loops each)\n"
     ]
    },
    {
     "data": {
      "text/markdown": [
       "### Sandia algorithm"
      ],
      "text/plain": [
       "<IPython.core.display.Markdown object>"
      ]
     },
     "metadata": {},
     "output_type": "display_data"
    },
    {
     "name": "stdout",
     "output_type": "stream",
     "text": [
      "Result: 86853\n",
      "Time: \n",
      "648 µs ± 1.29 µs per loop (mean ± std. dev. of 7 runs, 1,000 loops each)\n"
     ]
    },
    {
     "data": {
      "text/markdown": [
       "## Кол-во вершин: 500"
      ],
      "text/plain": [
       "<IPython.core.display.Markdown object>"
      ]
     },
     "metadata": {},
     "output_type": "display_data"
    },
    {
     "name": "stdout",
     "output_type": "stream",
     "text": [
      "Количество вершин = 500, количество ребер = 199590, плотность: 0.8\n"
     ]
    },
    {
     "data": {
      "text/markdown": [
       "### Naive"
      ],
      "text/plain": [
       "<IPython.core.display.Markdown object>"
      ]
     },
     "metadata": {},
     "output_type": "display_data"
    },
    {
     "name": "stdout",
     "output_type": "stream",
     "text": [
      "Result: 10600993\n",
      "Time: \n",
      "58.3 ms ± 249 µs per loop (mean ± std. dev. of 7 runs, 10 loops each)\n"
     ]
    },
    {
     "data": {
      "text/markdown": [
       "### Naive with mask"
      ],
      "text/plain": [
       "<IPython.core.display.Markdown object>"
      ]
     },
     "metadata": {},
     "output_type": "display_data"
    },
    {
     "name": "stdout",
     "output_type": "stream",
     "text": [
      "Result: 10600993\n",
      "Time: \n",
      "41.8 ms ± 241 µs per loop (mean ± std. dev. of 7 runs, 10 loops each)\n"
     ]
    },
    {
     "data": {
      "text/markdown": [
       "### Сohens algorithm"
      ],
      "text/plain": [
       "<IPython.core.display.Markdown object>"
      ]
     },
     "metadata": {},
     "output_type": "display_data"
    },
    {
     "name": "stdout",
     "output_type": "stream",
     "text": [
      "Result: 10600993\n",
      "Time: \n",
      "19.6 ms ± 303 µs per loop (mean ± std. dev. of 7 runs, 100 loops each)\n"
     ]
    },
    {
     "data": {
      "text/markdown": [
       "### Sandia algorithm"
      ],
      "text/plain": [
       "<IPython.core.display.Markdown object>"
      ]
     },
     "metadata": {},
     "output_type": "display_data"
    },
    {
     "name": "stdout",
     "output_type": "stream",
     "text": [
      "Result: 10600993\n",
      "Time: \n",
      "11.1 ms ± 334 µs per loop (mean ± std. dev. of 7 runs, 100 loops each)\n"
     ]
    },
    {
     "data": {
      "text/markdown": [
       "## Кол-во вершин: 1000"
      ],
      "text/plain": [
       "<IPython.core.display.Markdown object>"
      ]
     },
     "metadata": {},
     "output_type": "display_data"
    },
    {
     "name": "stdout",
     "output_type": "stream",
     "text": [
      "Количество вершин = 1000, количество ребер = 798922, плотность: 0.8\n"
     ]
    },
    {
     "data": {
      "text/markdown": [
       "### Naive"
      ],
      "text/plain": [
       "<IPython.core.display.Markdown object>"
      ]
     },
     "metadata": {},
     "output_type": "display_data"
    },
    {
     "name": "stdout",
     "output_type": "stream",
     "text": [
      "Result: 84986769\n",
      "Time: \n",
      "451 ms ± 5.3 ms per loop (mean ± std. dev. of 7 runs, 1 loop each)\n"
     ]
    },
    {
     "data": {
      "text/markdown": [
       "### Naive with mask"
      ],
      "text/plain": [
       "<IPython.core.display.Markdown object>"
      ]
     },
     "metadata": {},
     "output_type": "display_data"
    },
    {
     "name": "stdout",
     "output_type": "stream",
     "text": [
      "Result: 84986769\n",
      "Time: \n",
      "343 ms ± 5.18 ms per loop (mean ± std. dev. of 7 runs, 1 loop each)\n"
     ]
    },
    {
     "data": {
      "text/markdown": [
       "### Сohens algorithm"
      ],
      "text/plain": [
       "<IPython.core.display.Markdown object>"
      ]
     },
     "metadata": {},
     "output_type": "display_data"
    },
    {
     "name": "stdout",
     "output_type": "stream",
     "text": [
      "Result: 84986769\n",
      "Time: \n",
      "125 ms ± 1.34 ms per loop (mean ± std. dev. of 7 runs, 10 loops each)\n"
     ]
    },
    {
     "data": {
      "text/markdown": [
       "### Sandia algorithm"
      ],
      "text/plain": [
       "<IPython.core.display.Markdown object>"
      ]
     },
     "metadata": {},
     "output_type": "display_data"
    },
    {
     "name": "stdout",
     "output_type": "stream",
     "text": [
      "Result: 84986769\n",
      "Time: \n",
      "69.3 ms ± 3.21 ms per loop (mean ± std. dev. of 7 runs, 10 loops each)\n"
     ]
    }
   ],
   "source": [
    "for density in [0.1, 0.5, 0.8]:\n",
    "    display(Markdown(f'# Плотность: {density}'))\n",
    "    for n_vertices in (100, 500, 1_000):\n",
    "        display(Markdown(f'## Кол-во вершин: {n_vertices}'))\n",
    "        graph = generate_random_graph(n_vertices, density)\n",
    "        print(f'Количество вершин = {n_vertices}, количество ребер = {len(graph.to_coo()[0])}, плотность: {density}')\n",
    "        for alg_name, alg_func in algs.items():\n",
    "            display(Markdown(f'### {alg_name}'))\n",
    "            print(f'Result: {alg_func(graph)}')\n",
    "            print(f'Time: ')\n",
    "            %timeit alg_func(graph)"
   ]
  },
  {
   "cell_type": "code",
   "execution_count": 140,
   "id": "e936b45b",
   "metadata": {
    "ExecuteTime": {
     "end_time": "2024-05-12T12:26:24.181839Z",
     "start_time": "2024-05-12T12:25:57.571190Z"
    }
   },
   "outputs": [
    {
     "name": "stderr",
     "output_type": "stream",
     "text": [
      "\n",
      "  0%|                                                                                            | 0/3 [00:00<?, ?it/s]\u001b[A\n",
      " 33%|████████████████████████████                                                        | 1/3 [00:00<00:01,  1.40it/s]\u001b[A\n",
      " 67%|████████████████████████████████████████████████████████                            | 2/3 [00:14<00:08,  8.43s/it]\u001b[A\n",
      "100%|████████████████████████████████████████████████████████████████████████████████████| 3/3 [00:26<00:00,  8.86s/it]\u001b[A\n"
     ]
    }
   ],
   "source": [
    "df_density = []\n",
    "df_n_vertices = []\n",
    "df_alg_name = []\n",
    "df_time = []\n",
    "\n",
    "for density in tqdm([0.1, 0.5, 0.8]):\n",
    "    for n_vertices in (10, 100, 500, 1_000):\n",
    "        graph = generate_random_graph(n_vertices, density)\n",
    "        for alg_name, alg_func in algs.items():\n",
    "            time_expr = timeit.timeit(lambda: alg_func(graph), number=10)\n",
    "            \n",
    "            df_density.append(density)\n",
    "            df_n_vertices.append(n_vertices)\n",
    "            df_alg_name.append(alg_name)\n",
    "            df_time.append(time_expr)\n",
    "            \n",
    "expr_res = pd.DataFrame(\n",
    "    {\n",
    "        'density': df_density,\n",
    "        'n_vertices': df_n_vertices,\n",
    "        'alg_name': df_alg_name,\n",
    "        'time': df_time,\n",
    "    }\n",
    ")        "
   ]
  },
  {
   "cell_type": "code",
   "execution_count": null,
   "id": "f04f92df",
   "metadata": {},
   "outputs": [],
   "source": []
  },
  {
   "cell_type": "code",
   "execution_count": 145,
   "id": "8e867f23",
   "metadata": {
    "ExecuteTime": {
     "end_time": "2024-05-12T12:31:21.160767Z",
     "start_time": "2024-05-12T12:31:21.069377Z"
    }
   },
   "outputs": [
    {
     "data": {
      "image/png": "[encoded data removed]",
      "text/plain": [
       "<Figure size 700x500 with 1 Axes>"
      ]
     },
     "metadata": {},
     "output_type": "display_data"
    }
   ],
   "source": [
    "plt.figure(figsize=(7, 5))\n",
    "\n",
    "for alg_name in algs.keys():\n",
    "    tmp = expr_res[\n",
    "        expr_res['density'].eq(0.1)\n",
    "        & expr_res['alg_name'].eq(alg_name)\n",
    "    ].sort_values('n_vertices')\n",
    "    plt.plot(\n",
    "        tmp['n_vertices'].values,\n",
    "        tmp['time'].values,\n",
    "        label=alg_name,\n",
    "    )\n",
    "\n",
    "plt.xlabel('n_vertices')\n",
    "plt.ylabel('time')\n",
    "plt.title('Производительность при плотности 0.1')\n",
    "plt.legend()\n",
    "plt.grid(True)\n",
    "plt.show()"
   ]
  },
  {
   "cell_type": "code",
   "execution_count": 146,
   "id": "4692d9ec",
   "metadata": {
    "ExecuteTime": {
     "end_time": "2024-05-12T12:31:35.927541Z",
     "start_time": "2024-05-12T12:31:35.841249Z"
    }
   },
   "outputs": [
    {
     "data": {
      "image/png": "[encoded data removed]",
      "text/plain": [
       "<Figure size 700x500 with 1 Axes>"
      ]
     },
     "metadata": {},
     "output_type": "display_data"
    }
   ],
   "source": [
    "plt.figure(figsize=(7, 5))\n",
    "\n",
    "for alg_name in algs.keys():\n",
    "    tmp = expr_res[\n",
    "        expr_res['density'].eq(0.5)\n",
    "        & expr_res['alg_name'].eq(alg_name)\n",
    "    ].sort_values('n_vertices')\n",
    "    plt.plot(\n",
    "        tmp['n_vertices'].values,\n",
    "        tmp['time'].values,\n",
    "        label=alg_name,\n",
    "    )\n",
    "\n",
    "plt.xlabel('n_vertices')\n",
    "plt.ylabel('time')\n",
    "plt.title('Производительность при плотности 0.5')\n",
    "plt.legend()\n",
    "plt.grid(True)\n",
    "plt.show()"
   ]
  },
  {
   "cell_type": "code",
   "execution_count": 147,
   "id": "26c0d6bc",
   "metadata": {
    "ExecuteTime": {
     "end_time": "2024-05-12T12:31:49.871295Z",
     "start_time": "2024-05-12T12:31:49.785359Z"
    }
   },
   "outputs": [
    {
     "data": {
      "image/png": "[encoded data removed]",
      "text/plain": [
       "<Figure size 700x500 with 1 Axes>"
      ]
     },
     "metadata": {},
     "output_type": "display_data"
    }
   ],
   "source": [
    "plt.figure(figsize=(7, 5))\n",
    "\n",
    "for alg_name in algs.keys():\n",
    "    tmp = expr_res[\n",
    "        expr_res['density'].eq(0.8)\n",
    "        & expr_res['alg_name'].eq(alg_name)\n",
    "    ].sort_values('n_vertices')\n",
    "    plt.plot(\n",
    "        tmp['n_vertices'].values,\n",
    "        tmp['time'].values,\n",
    "        label=alg_name,\n",
    "    )\n",
    "\n",
    "plt.xlabel('n_vertices')\n",
    "plt.ylabel('time')\n",
    "plt.title('Производительность при плотности 0.8')\n",
    "plt.legend()\n",
    "plt.grid(True)\n",
    "plt.show()"
   ]
  },
  {
   "cell_type": "markdown",
   "id": "3cfee11e",
   "metadata": {},
   "source": [
    "## Выводы\n",
    "- Выводы из предыдущего задания сохраняются\n",
    "    - При увеличении плотности графа наивный алгоритм проигрывает.\n",
    "    - Наиболее производительным является Sandia algorithm\n"
   ]
  }
 ],
 "metadata": {
  "kernelspec": {
   "display_name": "graph",
   "language": "python",
   "name": "graph"
  },
  "language_info": {
   "codemirror_mode": {
    "name": "ipython",
    "version": 3
   },
   "file_extension": ".py",
   "mimetype": "text/x-python",
   "name": "python",
   "nbconvert_exporter": "python",
   "pygments_lexer": "ipython3",
   "version": "3.12.1"
  },
  "toc": {
   "base_numbering": 1,
   "nav_menu": {},
   "number_sections": true,
   "sideBar": true,
   "skip_h1_title": false,
   "title_cell": "Table of Contents",
   "title_sidebar": "Contents",
   "toc_cell": false,
   "toc_position": {
    "height": "calc(100% - 180px)",
    "left": "10px",
    "top": "150px",
    "width": "196.545px"
   },
   "toc_section_display": true,
   "toc_window_display": true
  }
 },
 "nbformat": 4,
 "nbformat_minor": 5
}
