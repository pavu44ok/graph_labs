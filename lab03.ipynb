{
 "cells": [
  {
   "cell_type": "code",
   "execution_count": 2,
   "id": "89bb3d92",
   "metadata": {
    "ExecuteTime": {
     "end_time": "2024-06-02T16:05:12.433502Z",
     "start_time": "2024-06-02T16:05:12.430032Z"
    }
   },
   "outputs": [],
   "source": [
    "import numpy as np\n",
    "import pandas as pd\n",
    "import networkx as nx\n",
    "import matplotlib.pyplot as plt\n",
    "import graphblas as gb\n",
    "from graphblas import Matrix, Vector, Scalar\n",
    "from graphblas import dtypes\n",
    "from graphblas import unary, binary, monoid, semiring\n",
    "from graphblas.io import mmread"
   ]
  },
  {
   "cell_type": "code",
   "execution_count": 3,
   "id": "f6e6d67f",
   "metadata": {
    "ExecuteTime": {
     "end_time": "2024-06-02T16:05:12.638123Z",
     "start_time": "2024-06-02T16:05:12.633698Z"
    }
   },
   "outputs": [],
   "source": [
    "def bellman_ford(m, start_vertex):\n",
    "    v = Vector(m.dtype, m.nrows)\n",
    "    v[start_vertex] << 0\n",
    "    w = v.dup()\n",
    "    for i in range(m.nrows - 1):\n",
    "        w_old = w.dup()\n",
    "        w(binary.min) << w.vxm(m, semiring.min_plus)\n",
    "        if w.isequal(w_old):\n",
    "            break\n",
    "    w_old = w.dup()\n",
    "    w(binary.min) << w.vxm(m, semiring.min_plus)\n",
    "    if not w.isequal(w_old):\n",
    "        raise Exception(\"Ошибка: в графе есть цикл отрицательного веса\")\n",
    "    ar_val = []\n",
    "    for i in range(m.nrows):\n",
    "        if w[i].value is None:\n",
    "            ar_val.append(float('inf'))\n",
    "        else:\n",
    "            ar_val.append(w[i].value)\n",
    "    return ar_val"
   ]
  },
  {
   "cell_type": "code",
   "execution_count": 4,
   "id": "7e5b719a",
   "metadata": {
    "ExecuteTime": {
     "end_time": "2024-06-02T16:05:12.821228Z",
     "start_time": "2024-06-02T16:05:12.817125Z"
    }
   },
   "outputs": [],
   "source": [
    "def bellman_ford_modify(m, start_vertex_ar):\n",
    "    rows = start_vertex_ar.size\n",
    "    cols = m.ncols\n",
    "    v = Matrix(dtypes.INT32, rows, cols)\n",
    "    for i in range(rows):\n",
    "        v[i, start_vertex_ar[i]] << 0\n",
    "    w = v.dup()\n",
    "    for i in range(cols - 1):\n",
    "        w_old = w.dup()\n",
    "        for i in range(rows):\n",
    "            w[i, :](binary.min) << w[i, :].vxm(m, semiring.min_plus)\n",
    "        if w.isequal(w_old):\n",
    "            break\n",
    "    w_old = w.dup()\n",
    "    for i in range(rows):\n",
    "        w[i, :](binary.min) << w[i, :].vxm(m, semiring.min_plus)\n",
    "    if not w.isequal(w_old):\n",
    "        raise Exception(\"Ошибка: в графе есть цикл отрицательного веса\")\n",
    "    output = {}\n",
    "    for i in range(rows):\n",
    "        ar_val = []\n",
    "        for j in range(cols):\n",
    "            if w[i, j].value is None:\n",
    "                ar_val.append(float('inf'))\n",
    "            else:\n",
    "                ar_val.append(w[i, j].value)\n",
    "        output[start_vertex_ar[i]] = np.array(ar_val)\n",
    "    return output"
   ]
  },
  {
   "cell_type": "code",
   "execution_count": 5,
   "id": "dcbe6e7b",
   "metadata": {
    "ExecuteTime": {
     "end_time": "2024-06-02T16:05:12.997222Z",
     "start_time": "2024-06-02T16:05:12.991229Z"
    }
   },
   "outputs": [],
   "source": [
    "def floyd_warshall(m):\n",
    "    D = m.dup()\n",
    "    rows = m.nrows\n",
    "    cur_D = m.dup()\n",
    "    for k in range(rows):\n",
    "        D_col = Matrix(dtypes.INT32, rows, rows)\n",
    "        D_row = Matrix(dtypes.INT32, rows, rows)\n",
    "        D_col[:, k] = D[:, k].dup()\n",
    "        D_row[k, :] = D[k, :].dup()\n",
    "        cur_D << D_col.mxm(D_row, semiring.min_plus)\n",
    "        D << D.ewise_add(cur_D, op=\"min\")\n",
    "    D1 = D.dup()\n",
    "    cur_D1 = cur_D.dup()\n",
    "    D_col1 = Matrix(dtypes.INT32, rows, rows)\n",
    "    D_row1 = Matrix(dtypes.INT32, rows, rows)\n",
    "    D_col1[:, k] = D1[:, k].dup()\n",
    "    D_row1[k, :] = D1[k, :].dup()\n",
    "    cur_D1 << D_col1.mxm(D_row1, semiring.min_plus)\n",
    "    D1 << D1.ewise_add(cur_D1, op=\"min\")\n",
    "    if not D1.isequal(D):\n",
    "        raise Exception(\"Ошибка: в графе есть цикл отрицательного веса\")\n",
    "    output = {}\n",
    "    for i in range(rows):\n",
    "        ar_val = []\n",
    "        for j in range(rows):\n",
    "            if i == j:\n",
    "                ar_val.append(0)\n",
    "            elif D[i, j].value is None:\n",
    "                ar_val.append(float('inf'))\n",
    "            else:\n",
    "                ar_val.append(D[i, j].value)\n",
    "        output[i] = np.array(ar_val)\n",
    "    return output"
   ]
  },
  {
   "cell_type": "code",
   "execution_count": 6,
   "id": "79c50132",
   "metadata": {
    "ExecuteTime": {
     "end_time": "2024-06-02T16:05:13.170801Z",
     "start_time": "2024-06-02T16:05:13.167220Z"
    }
   },
   "outputs": [],
   "source": [
    "def transitive_closure(m):\n",
    "    rows = m.nrows\n",
    "    I = Matrix(dtypes.INT32, rows, rows)\n",
    "    for i in range(rows):\n",
    "        I[i, i] << 1\n",
    "    D = I.dup()\n",
    "    for i in range(rows):\n",
    "        D1 = D.dup()\n",
    "        D = D.mxm(m, semiring.min_plus).ewise_add(I, op=\"min\")\n",
    "        if D1.isequal(D):\n",
    "            break\n",
    "    D2 = D.dup()\n",
    "    D2 = D2.mxm(m, semiring.min_plus).ewise_add(I, op=\"min\")\n",
    "    if not D2.isequal(D):\n",
    "        raise Exception(\"Ошибка: в графе есть цикл отрицательного веса\")\n",
    "    # формирую ответ\n",
    "    output = {}\n",
    "    for i in range(rows):\n",
    "        ar_val = []\n",
    "        for j in range(rows):\n",
    "            if D[i, j].value is None:\n",
    "                ar_val.append(float('inf'))\n",
    "            elif i == j:\n",
    "                ar_val.append(0)\n",
    "            else:\n",
    "                ar_val.append(D[i, j].value - 1)\n",
    "        output[i] = np.array(ar_val)\n",
    "    return output\n"
   ]
  },
  {
   "cell_type": "code",
   "execution_count": null,
   "id": "93941dc7",
   "metadata": {},
   "outputs": [],
   "source": []
  },
  {
   "cell_type": "markdown",
   "id": "58e3266d",
   "metadata": {},
   "source": [
    "**Тесты для проверки корректности полученных реализаций**"
   ]
  },
  {
   "cell_type": "code",
   "execution_count": 7,
   "id": "159d01e4",
   "metadata": {
    "ExecuteTime": {
     "end_time": "2024-06-02T16:05:14.538132Z",
     "start_time": "2024-06-02T16:05:14.383308Z"
    }
   },
   "outputs": [
    {
     "data": {
      "image/png": "[encoded data removed]",
      "text/plain": [
       "<Figure size 640x480 with 1 Axes>"
      ]
     },
     "metadata": {},
     "output_type": "display_data"
    }
   ],
   "source": [
    "M1 = gb.Matrix.from_coo(\n",
    "    [0, 0, 1, 1, 2, 2],\n",
    "    [1, 2, 0, 2, 0, 1],\n",
    "    [1, 1, 1, 1, 1, 1],\n",
    "    nrows=3,\n",
    "    ncols=3\n",
    ")\n",
    "gb.viz.draw(M1)"
   ]
  },
  {
   "cell_type": "markdown",
   "id": "c3222e5d",
   "metadata": {},
   "source": [
    "При старте в вершине 0 результатом работы функции `bellman_ford` будет массив [0, 1, 1]"
   ]
  },
  {
   "cell_type": "code",
   "execution_count": 17,
   "id": "0e6d7c95",
   "metadata": {
    "ExecuteTime": {
     "end_time": "2024-06-02T16:17:59.351168Z",
     "start_time": "2024-06-02T16:17:59.344131Z"
    }
   },
   "outputs": [
    {
     "data": {
      "text/plain": [
       "[0, 1, 1]"
      ]
     },
     "execution_count": 17,
     "metadata": {},
     "output_type": "execute_result"
    }
   ],
   "source": [
    "bellman_ford(M1, 0)"
   ]
  },
  {
   "cell_type": "markdown",
   "id": "080ff01c",
   "metadata": {},
   "source": [
    "Для функций `bellman_ford_modify`, `floyd_warshall` и `transitive_closure` результатом работу будут кортежи, которые содержат стартовую вершину и список уровней для всех вершин графа\n",
    "1. Для старта в вершине 0 - (0, [0, 1, 1])\n",
    "1. Для старта в вершине 1 - (0, [1, 0, 1])\n",
    "1. Для старта в вершине 2 - (0, [1, 1, 0])"
   ]
  },
  {
   "cell_type": "code",
   "execution_count": 19,
   "id": "67b6e283",
   "metadata": {
    "ExecuteTime": {
     "end_time": "2024-06-02T16:24:26.717773Z",
     "start_time": "2024-06-02T16:24:26.702851Z"
    }
   },
   "outputs": [
    {
     "data": {
      "text/plain": [
       "{0: array([0, 1, 1]), 1: array([1, 0, 1]), 2: array([1, 1, 0])}"
      ]
     },
     "execution_count": 19,
     "metadata": {},
     "output_type": "execute_result"
    }
   ],
   "source": [
    "bellman_ford_modify(M1, np.array([0, 1, 2]))"
   ]
  },
  {
   "cell_type": "code",
   "execution_count": 20,
   "id": "1b95cbed",
   "metadata": {
    "ExecuteTime": {
     "end_time": "2024-06-02T16:24:28.627678Z",
     "start_time": "2024-06-02T16:24:28.618368Z"
    }
   },
   "outputs": [
    {
     "data": {
      "text/plain": [
       "{0: array([0, 1, 1]), 1: array([1, 0, 1]), 2: array([1, 1, 0])}"
      ]
     },
     "execution_count": 20,
     "metadata": {},
     "output_type": "execute_result"
    }
   ],
   "source": [
    "floyd_warshall(M1)"
   ]
  },
  {
   "cell_type": "code",
   "execution_count": 21,
   "id": "b296767e",
   "metadata": {
    "ExecuteTime": {
     "end_time": "2024-06-02T16:24:29.960963Z",
     "start_time": "2024-06-02T16:24:29.953087Z"
    }
   },
   "outputs": [
    {
     "data": {
      "text/plain": [
       "{0: array([0, 1, 1]), 1: array([1, 0, 1]), 2: array([1, 1, 0])}"
      ]
     },
     "execution_count": 21,
     "metadata": {},
     "output_type": "execute_result"
    }
   ],
   "source": [
    "transitive_closure(M1)"
   ]
  },
  {
   "cell_type": "code",
   "execution_count": 12,
   "id": "2e23ffe6",
   "metadata": {
    "ExecuteTime": {
     "end_time": "2024-06-02T16:05:16.888364Z",
     "start_time": "2024-06-02T16:05:16.804043Z"
    }
   },
   "outputs": [
    {
     "data": {
      "image/png": "[encoded data removed]",
      "text/plain": [
       "<Figure size 640x480 with 1 Axes>"
      ]
     },
     "metadata": {},
     "output_type": "display_data"
    }
   ],
   "source": [
    "M2 = gb.Matrix.from_coo(\n",
    "    [0, 1],\n",
    "    [1, 2],\n",
    "    [1, 1],\n",
    "    nrows=3,\n",
    "    ncols=3\n",
    ")\n",
    "gb.viz.draw(M2)"
   ]
  },
  {
   "cell_type": "markdown",
   "id": "c27da194",
   "metadata": {},
   "source": [
    "При старте в вершине 0 результатом работы функции `bellman_ford` будет массив [0, 1, 2]."
   ]
  },
  {
   "cell_type": "code",
   "execution_count": 23,
   "id": "e82a748a",
   "metadata": {
    "ExecuteTime": {
     "end_time": "2024-06-02T16:25:11.274131Z",
     "start_time": "2024-06-02T16:25:11.266396Z"
    }
   },
   "outputs": [
    {
     "data": {
      "text/plain": [
       "[0, 1, 2]"
      ]
     },
     "execution_count": 23,
     "metadata": {},
     "output_type": "execute_result"
    }
   ],
   "source": [
    "bellman_ford(M2, 0)"
   ]
  },
  {
   "cell_type": "markdown",
   "id": "bce20033",
   "metadata": {},
   "source": [
    "Для функций `bellman_ford_modify`, `floyd_warshall` и `transitive_closure` результатом работу будут:\n",
    "1. Для старта в вершине 0 - (0, [0, 1, 2])\n",
    "1. Для старта в вершине 1 - (0, [inf, 0, 1])\n",
    "1. Для старта в вершине 2 - (0, [inf, inf, 0])\n",
    "\n",
    "inf - вершина недостижима из  старта"
   ]
  },
  {
   "cell_type": "code",
   "execution_count": 24,
   "id": "4b548a74",
   "metadata": {
    "ExecuteTime": {
     "end_time": "2024-06-02T16:26:02.121275Z",
     "start_time": "2024-06-02T16:26:02.111431Z"
    }
   },
   "outputs": [
    {
     "data": {
      "text/plain": [
       "{0: array([0, 1, 2]), 1: array([inf,  0.,  1.]), 2: array([inf, inf,  0.])}"
      ]
     },
     "execution_count": 24,
     "metadata": {},
     "output_type": "execute_result"
    }
   ],
   "source": [
    "bellman_ford_modify(M2, np.array([0, 1, 2]))"
   ]
  },
  {
   "cell_type": "code",
   "execution_count": 25,
   "id": "9c7ab1a0",
   "metadata": {
    "ExecuteTime": {
     "end_time": "2024-06-02T16:26:02.458069Z",
     "start_time": "2024-06-02T16:26:02.450368Z"
    }
   },
   "outputs": [
    {
     "data": {
      "text/plain": [
       "{0: array([0, 1, 2]), 1: array([inf,  0.,  1.]), 2: array([inf, inf,  0.])}"
      ]
     },
     "execution_count": 25,
     "metadata": {},
     "output_type": "execute_result"
    }
   ],
   "source": [
    "floyd_warshall(M2)"
   ]
  },
  {
   "cell_type": "code",
   "execution_count": 26,
   "id": "c6c0a42a",
   "metadata": {
    "ExecuteTime": {
     "end_time": "2024-06-02T16:26:02.694144Z",
     "start_time": "2024-06-02T16:26:02.687071Z"
    }
   },
   "outputs": [
    {
     "data": {
      "text/plain": [
       "{0: array([0, 1, 2]), 1: array([inf,  0.,  1.]), 2: array([inf, inf,  0.])}"
      ]
     },
     "execution_count": 26,
     "metadata": {},
     "output_type": "execute_result"
    }
   ],
   "source": [
    "transitive_closure(M2)"
   ]
  }
 ],
 "metadata": {
  "kernelspec": {
   "display_name": "graph",
   "language": "python",
   "name": "graph"
  },
  "language_info": {
   "codemirror_mode": {
    "name": "ipython",
    "version": 3
   },
   "file_extension": ".py",
   "mimetype": "text/x-python",
   "name": "python",
   "nbconvert_exporter": "python",
   "pygments_lexer": "ipython3",
   "version": "3.12.1"
  },
  "toc": {
   "base_numbering": 1,
   "nav_menu": {},
   "number_sections": true,
   "sideBar": true,
   "skip_h1_title": false,
   "title_cell": "Table of Contents",
   "title_sidebar": "Contents",
   "toc_cell": false,
   "toc_position": {},
   "toc_section_display": true,
   "toc_window_display": false
  }
 },
 "nbformat": 4,
 "nbformat_minor": 5
}
